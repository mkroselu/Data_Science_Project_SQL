{
 "cells": [
  {
   "cell_type": "markdown",
   "id": "1c90a6a4",
   "metadata": {},
   "source": [
    "**© 2022 Scott A. Bruce. Do not distribute.**\n",
    "\n",
    "# 1. SQL Alchemy to load data into Python"
   ]
  },
  {
   "cell_type": "code",
   "execution_count": 2,
   "id": "bc43e2e1",
   "metadata": {},
   "outputs": [],
   "source": [
    "from sqlalchemy import create_engine\n",
    "import pandas as pd # if you see pd, that means it's a function or object coming from pandas packages. \n",
    "from IPython.core.interactiveshell import InteractiveShell # the below two lines allow us to see things interactively. \n",
    "InteractiveShell.ast_node_interactivity = \"all\""
   ]
  },
  {
   "cell_type": "code",
   "execution_count": null,
   "id": "8d1f6f08",
   "metadata": {},
   "outputs": [],
   "source": [
    "%matplotlib inline # everytime we plot sth. with matplotlib we want to see it inline with the code. "
   ]
  },
  {
   "cell_type": "code",
   "execution_count": 12,
   "id": "86e8f22a",
   "metadata": {},
   "outputs": [
    {
     "name": "stdout",
     "output_type": "stream",
     "text": [
      "postgresql+psycopg2://{username}:{pswd}@{host}:{port}/{database}\n"
     ]
    }
   ],
   "source": [
    "# psycopg2 is the underline function that actually runs in your database. \n",
    "cnxn_string = (\"postgresql+psycopg2://{username}:{pswd}\"  # we need to define things in the curly brackets\n",
    "              \"@{host}:{port}/{database}\")\n",
    "print(cnxn_string)"
   ]
  },
  {
   "cell_type": "code",
   "execution_count": 13,
   "id": "5493972c",
   "metadata": {},
   "outputs": [
    {
     "data": {
      "text/plain": [
       "[(1, None, 'Arlena', 'Riveles', None, 'ariveles0@stumbleupon.com', 'F', '98.36.172.246', None, None, None, None, None, None, None, datetime.datetime(2017, 4, 23, 0, 0)),\n",
       " (2, 'Dr', 'Ode', 'Stovin', None, 'ostovin1@npr.org', 'M', '16.97.59.186', '314-534-4361', '2573 Fordem Parkway', 'Saint Louis', 'MO', '63116', 38.5814, -90.2625, datetime.datetime(2014, 10, 2, 0, 0))]"
      ]
     },
     "execution_count": 13,
     "metadata": {},
     "output_type": "execute_result"
    }
   ],
   "source": [
    "# creates an object engine by calling create_engine function.\n",
    "# the first input to the function is cnxn_string, you specified previously. However, we need to format it by adding in the \n",
    "# specific part of the strings corresponding to our username, pswd, ..., database. \n",
    "# .format() allows us to specify the function. \n",
    "engine = create_engine(cnxn_string.format(\n",
    "    username=\"postgres\",\n",
    "    pswd=\"behappy\",\n",
    "    host=\"postgres\",\n",
    "    port=5432,\n",
    "    database=\"sqlda\"))\n",
    "\n",
    "# just to verify it works, once engine is created, we execute a simple query \"select...\" to show it works. \n",
    "engine.execute(\"SELECT * FROM customers LIMIT 2;\").fetchall()  # fetch all -> excute it "
   ]
  },
  {
   "cell_type": "code",
   "execution_count": 14,
   "id": "e6cc4cb3",
   "metadata": {},
   "outputs": [],
   "source": [
    "customers_data = pd.read_sql_table('customers',engine) # function, read_sql_table, takes 2 inputs: the name of the table \n",
    "# you want to read ('customer') and engine which allows us to connect to database. "
   ]
  },
  {
   "cell_type": "code",
   "execution_count": 15,
   "id": "94767bcf",
   "metadata": {},
   "outputs": [],
   "source": [
    "query = \"\"\"select city, count(*) as number_of_customers,\n",
    "           count(nullif(gender,'M')) as female,\n",
    "           count(nullif(gender,'F')) as male\n",
    "           from customers\n",
    "           where city is not null\n",
    "           group by city\n",
    "           order by number_of_customers desc\n",
    "           limit 10\"\"\"        # three double quotes are a way to specify the query. "
   ]
  },
  {
   "cell_type": "code",
   "execution_count": 16,
   "id": "f9e1a979",
   "metadata": {},
   "outputs": [],
   "source": [
    "top_cities_data = pd.read_sql_query(query,engine) # use another funcion within pd and pass query to it instead of passing name\n",
    "# of the table. It connects to the DB using the connection you provided, run the query and brings all results into a pandas DF \n",
    "# calling top_cities_data. "
   ]
  },
  {
   "cell_type": "code",
   "execution_count": 17,
   "id": "462c4404",
   "metadata": {},
   "outputs": [
    {
     "data": {
      "text/html": [
       "<div>\n",
       "<style scoped>\n",
       "    .dataframe tbody tr th:only-of-type {\n",
       "        vertical-align: middle;\n",
       "    }\n",
       "\n",
       "    .dataframe tbody tr th {\n",
       "        vertical-align: top;\n",
       "    }\n",
       "\n",
       "    .dataframe thead th {\n",
       "        text-align: right;\n",
       "    }\n",
       "</style>\n",
       "<table border=\"1\" class=\"dataframe\">\n",
       "  <thead>\n",
       "    <tr style=\"text-align: right;\">\n",
       "      <th></th>\n",
       "      <th>city</th>\n",
       "      <th>number_of_customers</th>\n",
       "      <th>female</th>\n",
       "      <th>male</th>\n",
       "    </tr>\n",
       "  </thead>\n",
       "  <tbody>\n",
       "    <tr>\n",
       "      <th>0</th>\n",
       "      <td>Washington</td>\n",
       "      <td>1447</td>\n",
       "      <td>734</td>\n",
       "      <td>713</td>\n",
       "    </tr>\n",
       "    <tr>\n",
       "      <th>1</th>\n",
       "      <td>Houston</td>\n",
       "      <td>904</td>\n",
       "      <td>446</td>\n",
       "      <td>458</td>\n",
       "    </tr>\n",
       "    <tr>\n",
       "      <th>2</th>\n",
       "      <td>New York City</td>\n",
       "      <td>731</td>\n",
       "      <td>369</td>\n",
       "      <td>362</td>\n",
       "    </tr>\n",
       "    <tr>\n",
       "      <th>3</th>\n",
       "      <td>El Paso</td>\n",
       "      <td>713</td>\n",
       "      <td>369</td>\n",
       "      <td>344</td>\n",
       "    </tr>\n",
       "    <tr>\n",
       "      <th>4</th>\n",
       "      <td>Dallas</td>\n",
       "      <td>607</td>\n",
       "      <td>309</td>\n",
       "      <td>298</td>\n",
       "    </tr>\n",
       "    <tr>\n",
       "      <th>5</th>\n",
       "      <td>Atlanta</td>\n",
       "      <td>571</td>\n",
       "      <td>292</td>\n",
       "      <td>279</td>\n",
       "    </tr>\n",
       "    <tr>\n",
       "      <th>6</th>\n",
       "      <td>Sacramento</td>\n",
       "      <td>506</td>\n",
       "      <td>244</td>\n",
       "      <td>262</td>\n",
       "    </tr>\n",
       "    <tr>\n",
       "      <th>7</th>\n",
       "      <td>Los Angeles</td>\n",
       "      <td>466</td>\n",
       "      <td>241</td>\n",
       "      <td>225</td>\n",
       "    </tr>\n",
       "    <tr>\n",
       "      <th>8</th>\n",
       "      <td>San Antonio</td>\n",
       "      <td>426</td>\n",
       "      <td>207</td>\n",
       "      <td>219</td>\n",
       "    </tr>\n",
       "    <tr>\n",
       "      <th>9</th>\n",
       "      <td>Miami</td>\n",
       "      <td>426</td>\n",
       "      <td>195</td>\n",
       "      <td>231</td>\n",
       "    </tr>\n",
       "  </tbody>\n",
       "</table>\n",
       "</div>"
      ],
      "text/plain": [
       "            city  number_of_customers  female  male\n",
       "0     Washington                 1447     734   713\n",
       "1        Houston                  904     446   458\n",
       "2  New York City                  731     369   362\n",
       "3        El Paso                  713     369   344\n",
       "4         Dallas                  607     309   298\n",
       "5        Atlanta                  571     292   279\n",
       "6     Sacramento                  506     244   262\n",
       "7    Los Angeles                  466     241   225\n",
       "8    San Antonio                  426     207   219\n",
       "9          Miami                  426     195   231"
      ]
     },
     "execution_count": 17,
     "metadata": {},
     "output_type": "execute_result"
    }
   ],
   "source": [
    "top_cities_data"
   ]
  },
  {
   "cell_type": "code",
   "execution_count": 18,
   "id": "064268db",
   "metadata": {},
   "outputs": [
    {
     "data": {
      "image/png": "[encoded data removed]",
      "text/plain": [
       "<Figure size 640x480 with 1 Axes>"
      ]
     },
     "metadata": {},
     "output_type": "display_data"
    }
   ],
   "source": [
    "# After set into pandas DF, we can do all the typical stuff: visualization, manipulation, produce models etc. \n",
    "ax = top_cities_data.plot.bar('city',y=['female','male'],\n",
    "                              title='Number of Customers by Gender and City')"
   ]
  },
  {
   "cell_type": "markdown",
   "id": "6a63840a",
   "metadata": {},
   "source": [
    "# 2. Writing data to database using Python"
   ]
  },
  {
   "cell_type": "code",
   "execution_count": 19,
   "id": "2e6b18b6",
   "metadata": {},
   "outputs": [],
   "source": [
    "# pass DF back to DB using engine bridge. \n",
    "top_cities_data.to_sql('top_cities_data',engine,\n",
    "                       index=False,if_exists='replace') # additional inputs you want to specify. "
   ]
  },
  {
   "cell_type": "code",
   "execution_count": 20,
   "id": "527a00c8",
   "metadata": {},
   "outputs": [
    {
     "name": "stdout",
     "output_type": "stream",
     "text": [
      "Help on function to_sql in pandas.DataFrame:\n",
      "\n",
      "pandas.DataFrame.to_sql = to_sql(self, name: 'str', con, schema=None, if_exists: 'str' = 'fail', index: 'bool_t' = True, index_label=None, chunksize=None, dtype: 'DtypeArg | None' = None, method=None) -> 'None'\n",
      "    Write records stored in a DataFrame to a SQL database.\n",
      "    \n",
      "    Databases supported by SQLAlchemy [1]_ are supported. Tables can be\n",
      "    newly created, appended to, or overwritten.\n",
      "    \n",
      "    Parameters\n",
      "    ----------\n",
      "    name : str\n",
      "        Name of SQL table.\n",
      "    con : sqlalchemy.engine.(Engine or Connection) or sqlite3.Connection\n",
      "        Using SQLAlchemy makes it possible to use any DB supported by that\n",
      "        library. Legacy support is provided for sqlite3.Connection objects. The user\n",
      "        is responsible for engine disposal and connection closure for the SQLAlchemy\n",
      "        connectable See `here                 <https://docs.sqlalchemy.org/en/13/core/connections.html>`_.\n",
      "    \n",
      "    schema : str, optional\n",
      "        Specify the schema (if database flavor supports this). If None, use\n",
      "        default schema.\n",
      "    if_exists : {'fail', 'replace', 'append'}, default 'fail'\n",
      "        How to behave if the table already exists.\n",
      "    \n",
      "        * fail: Raise a ValueError.\n",
      "        * replace: Drop the table before inserting new values.\n",
      "        * append: Insert new values to the existing table.\n",
      "    \n",
      "    index : bool, default True\n",
      "        Write DataFrame index as a column. Uses `index_label` as the column\n",
      "        name in the table.\n",
      "    index_label : str or sequence, default None\n",
      "        Column label for index column(s). If None is given (default) and\n",
      "        `index` is True, then the index names are used.\n",
      "        A sequence should be given if the DataFrame uses MultiIndex.\n",
      "    chunksize : int, optional\n",
      "        Specify the number of rows in each batch to be written at a time.\n",
      "        By default, all rows will be written at once.\n",
      "    dtype : dict or scalar, optional\n",
      "        Specifying the datatype for columns. If a dictionary is used, the\n",
      "        keys should be the column names and the values should be the\n",
      "        SQLAlchemy types or strings for the sqlite3 legacy mode. If a\n",
      "        scalar is provided, it will be applied to all columns.\n",
      "    method : {None, 'multi', callable}, optional\n",
      "        Controls the SQL insertion clause used:\n",
      "    \n",
      "        * None : Uses standard SQL ``INSERT`` clause (one per row).\n",
      "        * 'multi': Pass multiple values in a single ``INSERT`` clause.\n",
      "        * callable with signature ``(pd_table, conn, keys, data_iter)``.\n",
      "    \n",
      "        Details and a sample callable implementation can be found in the\n",
      "        section :ref:`insert method <io.sql.method>`.\n",
      "    \n",
      "    Raises\n",
      "    ------\n",
      "    ValueError\n",
      "        When the table already exists and `if_exists` is 'fail' (the\n",
      "        default).\n",
      "    \n",
      "    See Also\n",
      "    --------\n",
      "    read_sql : Read a DataFrame from a table.\n",
      "    \n",
      "    Notes\n",
      "    -----\n",
      "    Timezone aware datetime columns will be written as\n",
      "    ``Timestamp with timezone`` type with SQLAlchemy if supported by the\n",
      "    database. Otherwise, the datetimes will be stored as timezone unaware\n",
      "    timestamps local to the original timezone.\n",
      "    \n",
      "    References\n",
      "    ----------\n",
      "    .. [1] https://docs.sqlalchemy.org\n",
      "    .. [2] https://www.python.org/dev/peps/pep-0249/\n",
      "    \n",
      "    Examples\n",
      "    --------\n",
      "    Create an in-memory SQLite database.\n",
      "    \n",
      "    >>> from sqlalchemy import create_engine\n",
      "    >>> engine = create_engine('sqlite://', echo=False)\n",
      "    \n",
      "    Create a table from scratch with 3 rows.\n",
      "    \n",
      "    >>> df = pd.DataFrame({'name' : ['User 1', 'User 2', 'User 3']})\n",
      "    >>> df\n",
      "         name\n",
      "    0  User 1\n",
      "    1  User 2\n",
      "    2  User 3\n",
      "    \n",
      "    >>> df.to_sql('users', con=engine)\n",
      "    >>> engine.execute(\"SELECT * FROM users\").fetchall()\n",
      "    [(0, 'User 1'), (1, 'User 2'), (2, 'User 3')]\n",
      "    \n",
      "    An `sqlalchemy.engine.Connection` can also be passed to `con`:\n",
      "    \n",
      "    >>> with engine.begin() as connection:\n",
      "    ...     df1 = pd.DataFrame({'name' : ['User 4', 'User 5']})\n",
      "    ...     df1.to_sql('users', con=connection, if_exists='append')\n",
      "    \n",
      "    This is allowed to support operations that require that the same\n",
      "    DBAPI connection is used for the entire operation.\n",
      "    \n",
      "    >>> df2 = pd.DataFrame({'name' : ['User 6', 'User 7']})\n",
      "    >>> df2.to_sql('users', con=engine, if_exists='append')\n",
      "    >>> engine.execute(\"SELECT * FROM users\").fetchall()\n",
      "    [(0, 'User 1'), (1, 'User 2'), (2, 'User 3'),\n",
      "     (0, 'User 4'), (1, 'User 5'), (0, 'User 6'),\n",
      "     (1, 'User 7')]\n",
      "    \n",
      "    Overwrite the table with just ``df2``.\n",
      "    \n",
      "    >>> df2.to_sql('users', con=engine, if_exists='replace',\n",
      "    ...            index_label='id')\n",
      "    >>> engine.execute(\"SELECT * FROM users\").fetchall()\n",
      "    [(0, 'User 6'), (1, 'User 7')]\n",
      "    \n",
      "    Specify the dtype (especially useful for integers with missing values).\n",
      "    Notice that while pandas is forced to store the data as floating point,\n",
      "    the database supports nullable integers. When fetching the data with\n",
      "    Python, we get back integer scalars.\n",
      "    \n",
      "    >>> df = pd.DataFrame({\"A\": [1, None, 2]})\n",
      "    >>> df\n",
      "         A\n",
      "    0  1.0\n",
      "    1  NaN\n",
      "    2  2.0\n",
      "    \n",
      "    >>> from sqlalchemy.types import Integer\n",
      "    >>> df.to_sql('integers', con=engine, index=False,\n",
      "    ...           dtype={\"A\": Integer()})\n",
      "    \n",
      "    >>> engine.execute(\"SELECT * FROM integers\").fetchall()\n",
      "    [(1,), (None,), (2,)]\n",
      "\n"
     ]
    }
   ],
   "source": [
    "#get help using the help function\n",
    "help('pandas.DataFrame.to_sql')"
   ]
  },
  {
   "cell_type": "code",
   "execution_count": 21,
   "id": "a061b907",
   "metadata": {},
   "outputs": [
    {
     "data": {
      "text/plain": [
       "pandas.core.frame.DataFrame"
      ]
     },
     "execution_count": 21,
     "metadata": {},
     "output_type": "execute_result"
    },
    {
     "data": {
      "text/plain": [
       "<function pandas.core.generic.NDFrame.to_sql(self, name: 'str', con, schema=None, if_exists: 'str' = 'fail', index: 'bool_t' = True, index_label=None, chunksize=None, dtype: 'DtypeArg | None' = None, method=None) -> 'None'>"
      ]
     },
     "execution_count": 21,
     "metadata": {},
     "output_type": "execute_result"
    }
   ],
   "source": [
    "#but what if you can't remember the name of the function?\n",
    "\n",
    "#using tab and shift+tab for help in Jupyter notebooks\n",
    "pd.pandas.DataFrame\n",
    "#now press tab, which will bring up all possible functions, so you can find the one you are looking for\n",
    "pd.pandas.DataFrame.to_sql\n",
    "#now press shift+tab, which will bring up the help file and input arguments (in case you forget them)"
   ]
  },
  {
   "cell_type": "markdown",
   "id": "66d59d33",
   "metadata": {},
   "source": [
    "# 3. Reading and writing CSV files with Python"
   ]
  },
  {
   "cell_type": "code",
   "execution_count": 22,
   "id": "96c3c7f3",
   "metadata": {},
   "outputs": [
    {
     "data": {
      "text/html": [
       "<div>\n",
       "<style scoped>\n",
       "    .dataframe tbody tr th:only-of-type {\n",
       "        vertical-align: middle;\n",
       "    }\n",
       "\n",
       "    .dataframe tbody tr th {\n",
       "        vertical-align: top;\n",
       "    }\n",
       "\n",
       "    .dataframe thead th {\n",
       "        text-align: right;\n",
       "    }\n",
       "</style>\n",
       "<table border=\"1\" class=\"dataframe\">\n",
       "  <thead>\n",
       "    <tr style=\"text-align: right;\">\n",
       "      <th></th>\n",
       "      <th>city</th>\n",
       "      <th>number_of_customers</th>\n",
       "      <th>female</th>\n",
       "      <th>male</th>\n",
       "    </tr>\n",
       "  </thead>\n",
       "  <tbody>\n",
       "    <tr>\n",
       "      <th>0</th>\n",
       "      <td>Washington</td>\n",
       "      <td>1447</td>\n",
       "      <td>734</td>\n",
       "      <td>713</td>\n",
       "    </tr>\n",
       "    <tr>\n",
       "      <th>1</th>\n",
       "      <td>Houston</td>\n",
       "      <td>904</td>\n",
       "      <td>446</td>\n",
       "      <td>458</td>\n",
       "    </tr>\n",
       "    <tr>\n",
       "      <th>2</th>\n",
       "      <td>New York City</td>\n",
       "      <td>731</td>\n",
       "      <td>369</td>\n",
       "      <td>362</td>\n",
       "    </tr>\n",
       "    <tr>\n",
       "      <th>3</th>\n",
       "      <td>El Paso</td>\n",
       "      <td>713</td>\n",
       "      <td>369</td>\n",
       "      <td>344</td>\n",
       "    </tr>\n",
       "    <tr>\n",
       "      <th>4</th>\n",
       "      <td>Dallas</td>\n",
       "      <td>607</td>\n",
       "      <td>309</td>\n",
       "      <td>298</td>\n",
       "    </tr>\n",
       "    <tr>\n",
       "      <th>5</th>\n",
       "      <td>Atlanta</td>\n",
       "      <td>571</td>\n",
       "      <td>292</td>\n",
       "      <td>279</td>\n",
       "    </tr>\n",
       "    <tr>\n",
       "      <th>6</th>\n",
       "      <td>Sacramento</td>\n",
       "      <td>506</td>\n",
       "      <td>244</td>\n",
       "      <td>262</td>\n",
       "    </tr>\n",
       "    <tr>\n",
       "      <th>7</th>\n",
       "      <td>Los Angeles</td>\n",
       "      <td>466</td>\n",
       "      <td>241</td>\n",
       "      <td>225</td>\n",
       "    </tr>\n",
       "    <tr>\n",
       "      <th>8</th>\n",
       "      <td>San Antonio</td>\n",
       "      <td>426</td>\n",
       "      <td>207</td>\n",
       "      <td>219</td>\n",
       "    </tr>\n",
       "    <tr>\n",
       "      <th>9</th>\n",
       "      <td>Miami</td>\n",
       "      <td>426</td>\n",
       "      <td>195</td>\n",
       "      <td>231</td>\n",
       "    </tr>\n",
       "  </tbody>\n",
       "</table>\n",
       "</div>"
      ],
      "text/plain": [
       "            city  number_of_customers  female  male\n",
       "0     Washington                 1447     734   713\n",
       "1        Houston                  904     446   458\n",
       "2  New York City                  731     369   362\n",
       "3        El Paso                  713     369   344\n",
       "4         Dallas                  607     309   298\n",
       "5        Atlanta                  571     292   279\n",
       "6     Sacramento                  506     244   262\n",
       "7    Los Angeles                  466     241   225\n",
       "8    San Antonio                  426     207   219\n",
       "9          Miami                  426     195   231"
      ]
     },
     "execution_count": 22,
     "metadata": {},
     "output_type": "execute_result"
    }
   ],
   "source": [
    "# index is like a row index ex. 0,1,2..., if index=True, it will create a seperate column at the beginning. \n",
    "top_cities_data.to_csv('top_cities_analysis.csv',index=False) \n",
    "my_data=pd.read_csv('top_cities_analysis.csv')\n",
    "my_data"
   ]
  },
  {
   "cell_type": "code",
   "execution_count": 23,
   "id": "45134f59",
   "metadata": {},
   "outputs": [
    {
     "name": "stdout",
     "output_type": "stream",
     "text": [
      "Help on function read_csv in pandas:\n",
      "\n",
      "pandas.read_csv = read_csv(filepath_or_buffer: 'FilePathOrBuffer', sep=<no_default>, delimiter=None, header='infer', names=<no_default>, index_col=None, usecols=None, squeeze=False, prefix=<no_default>, mangle_dupe_cols=True, dtype: 'DtypeArg | None' = None, engine=None, converters=None, true_values=None, false_values=None, skipinitialspace=False, skiprows=None, skipfooter=0, nrows=None, na_values=None, keep_default_na=True, na_filter=True, verbose=False, skip_blank_lines=True, parse_dates=False, infer_datetime_format=False, keep_date_col=False, date_parser=None, dayfirst=False, cache_dates=True, iterator=False, chunksize=None, compression='infer', thousands=None, decimal: 'str' = '.', lineterminator=None, quotechar='\"', quoting=0, doublequote=True, escapechar=None, comment=None, encoding=None, encoding_errors: 'str | None' = 'strict', dialect=None, error_bad_lines=None, warn_bad_lines=None, on_bad_lines=None, delim_whitespace=False, low_memory=True, memory_map=False, float_precision=None, storage_options: 'StorageOptions' = None)\n",
      "    Read a comma-separated values (csv) file into DataFrame.\n",
      "    \n",
      "    Also supports optionally iterating or breaking of the file\n",
      "    into chunks.\n",
      "    \n",
      "    Additional help can be found in the online docs for\n",
      "    `IO Tools <https://pandas.pydata.org/pandas-docs/stable/user_guide/io.html>`_.\n",
      "    \n",
      "    Parameters\n",
      "    ----------\n",
      "    filepath_or_buffer : str, path object or file-like object\n",
      "        Any valid string path is acceptable. The string could be a URL. Valid\n",
      "        URL schemes include http, ftp, s3, gs, and file. For file URLs, a host is\n",
      "        expected. A local file could be: file://localhost/path/to/table.csv.\n",
      "    \n",
      "        If you want to pass in a path object, pandas accepts any ``os.PathLike``.\n",
      "    \n",
      "        By file-like object, we refer to objects with a ``read()`` method, such as\n",
      "        a file handle (e.g. via builtin ``open`` function) or ``StringIO``.\n",
      "    sep : str, default ','\n",
      "        Delimiter to use. If sep is None, the C engine cannot automatically detect\n",
      "        the separator, but the Python parsing engine can, meaning the latter will\n",
      "        be used and automatically detect the separator by Python's builtin sniffer\n",
      "        tool, ``csv.Sniffer``. In addition, separators longer than 1 character and\n",
      "        different from ``'\\s+'`` will be interpreted as regular expressions and\n",
      "        will also force the use of the Python parsing engine. Note that regex\n",
      "        delimiters are prone to ignoring quoted data. Regex example: ``'\\r\\t'``.\n",
      "    delimiter : str, default ``None``\n",
      "        Alias for sep.\n",
      "    header : int, list of int, default 'infer'\n",
      "        Row number(s) to use as the column names, and the start of the\n",
      "        data.  Default behavior is to infer the column names: if no names\n",
      "        are passed the behavior is identical to ``header=0`` and column\n",
      "        names are inferred from the first line of the file, if column\n",
      "        names are passed explicitly then the behavior is identical to\n",
      "        ``header=None``. Explicitly pass ``header=0`` to be able to\n",
      "        replace existing names. The header can be a list of integers that\n",
      "        specify row locations for a multi-index on the columns\n",
      "        e.g. [0,1,3]. Intervening rows that are not specified will be\n",
      "        skipped (e.g. 2 in this example is skipped). Note that this\n",
      "        parameter ignores commented lines and empty lines if\n",
      "        ``skip_blank_lines=True``, so ``header=0`` denotes the first line of\n",
      "        data rather than the first line of the file.\n",
      "    names : array-like, optional\n",
      "        List of column names to use. If the file contains a header row,\n",
      "        then you should explicitly pass ``header=0`` to override the column names.\n",
      "        Duplicates in this list are not allowed.\n",
      "    index_col : int, str, sequence of int / str, or False, default ``None``\n",
      "      Column(s) to use as the row labels of the ``DataFrame``, either given as\n",
      "      string name or column index. If a sequence of int / str is given, a\n",
      "      MultiIndex is used.\n",
      "    \n",
      "      Note: ``index_col=False`` can be used to force pandas to *not* use the first\n",
      "      column as the index, e.g. when you have a malformed file with delimiters at\n",
      "      the end of each line.\n",
      "    usecols : list-like or callable, optional\n",
      "        Return a subset of the columns. If list-like, all elements must either\n",
      "        be positional (i.e. integer indices into the document columns) or strings\n",
      "        that correspond to column names provided either by the user in `names` or\n",
      "        inferred from the document header row(s). For example, a valid list-like\n",
      "        `usecols` parameter would be ``[0, 1, 2]`` or ``['foo', 'bar', 'baz']``.\n",
      "        Element order is ignored, so ``usecols=[0, 1]`` is the same as ``[1, 0]``.\n",
      "        To instantiate a DataFrame from ``data`` with element order preserved use\n",
      "        ``pd.read_csv(data, usecols=['foo', 'bar'])[['foo', 'bar']]`` for columns\n",
      "        in ``['foo', 'bar']`` order or\n",
      "        ``pd.read_csv(data, usecols=['foo', 'bar'])[['bar', 'foo']]``\n",
      "        for ``['bar', 'foo']`` order.\n",
      "    \n",
      "        If callable, the callable function will be evaluated against the column\n",
      "        names, returning names where the callable function evaluates to True. An\n",
      "        example of a valid callable argument would be ``lambda x: x.upper() in\n",
      "        ['AAA', 'BBB', 'DDD']``. Using this parameter results in much faster\n",
      "        parsing time and lower memory usage.\n",
      "    squeeze : bool, default False\n",
      "        If the parsed data only contains one column then return a Series.\n",
      "    prefix : str, optional\n",
      "        Prefix to add to column numbers when no header, e.g. 'X' for X0, X1, ...\n",
      "    mangle_dupe_cols : bool, default True\n",
      "        Duplicate columns will be specified as 'X', 'X.1', ...'X.N', rather than\n",
      "        'X'...'X'. Passing in False will cause data to be overwritten if there\n",
      "        are duplicate names in the columns.\n",
      "    dtype : Type name or dict of column -> type, optional\n",
      "        Data type for data or columns. E.g. {'a': np.float64, 'b': np.int32,\n",
      "        'c': 'Int64'}\n",
      "        Use `str` or `object` together with suitable `na_values` settings\n",
      "        to preserve and not interpret dtype.\n",
      "        If converters are specified, they will be applied INSTEAD\n",
      "        of dtype conversion.\n",
      "    engine : {'c', 'python'}, optional\n",
      "        Parser engine to use. The C engine is faster while the python engine is\n",
      "        currently more feature-complete.\n",
      "    converters : dict, optional\n",
      "        Dict of functions for converting values in certain columns. Keys can either\n",
      "        be integers or column labels.\n",
      "    true_values : list, optional\n",
      "        Values to consider as True.\n",
      "    false_values : list, optional\n",
      "        Values to consider as False.\n",
      "    skipinitialspace : bool, default False\n",
      "        Skip spaces after delimiter.\n",
      "    skiprows : list-like, int or callable, optional\n",
      "        Line numbers to skip (0-indexed) or number of lines to skip (int)\n",
      "        at the start of the file.\n",
      "    \n",
      "        If callable, the callable function will be evaluated against the row\n",
      "        indices, returning True if the row should be skipped and False otherwise.\n",
      "        An example of a valid callable argument would be ``lambda x: x in [0, 2]``.\n",
      "    skipfooter : int, default 0\n",
      "        Number of lines at bottom of file to skip (Unsupported with engine='c').\n",
      "    nrows : int, optional\n",
      "        Number of rows of file to read. Useful for reading pieces of large files.\n",
      "    na_values : scalar, str, list-like, or dict, optional\n",
      "        Additional strings to recognize as NA/NaN. If dict passed, specific\n",
      "        per-column NA values.  By default the following values are interpreted as\n",
      "        NaN: '', '#N/A', '#N/A N/A', '#NA', '-1.#IND', '-1.#QNAN', '-NaN', '-nan',\n",
      "        '1.#IND', '1.#QNAN', '<NA>', 'N/A', 'NA', 'NULL', 'NaN', 'n/a',\n",
      "        'nan', 'null'.\n",
      "    keep_default_na : bool, default True\n",
      "        Whether or not to include the default NaN values when parsing the data.\n",
      "        Depending on whether `na_values` is passed in, the behavior is as follows:\n",
      "    \n",
      "        * If `keep_default_na` is True, and `na_values` are specified, `na_values`\n",
      "          is appended to the default NaN values used for parsing.\n",
      "        * If `keep_default_na` is True, and `na_values` are not specified, only\n",
      "          the default NaN values are used for parsing.\n",
      "        * If `keep_default_na` is False, and `na_values` are specified, only\n",
      "          the NaN values specified `na_values` are used for parsing.\n",
      "        * If `keep_default_na` is False, and `na_values` are not specified, no\n",
      "          strings will be parsed as NaN.\n",
      "    \n",
      "        Note that if `na_filter` is passed in as False, the `keep_default_na` and\n",
      "        `na_values` parameters will be ignored.\n",
      "    na_filter : bool, default True\n",
      "        Detect missing value markers (empty strings and the value of na_values). In\n",
      "        data without any NAs, passing na_filter=False can improve the performance\n",
      "        of reading a large file.\n",
      "    verbose : bool, default False\n",
      "        Indicate number of NA values placed in non-numeric columns.\n",
      "    skip_blank_lines : bool, default True\n",
      "        If True, skip over blank lines rather than interpreting as NaN values.\n",
      "    parse_dates : bool or list of int or names or list of lists or dict, default False\n",
      "        The behavior is as follows:\n",
      "    \n",
      "        * boolean. If True -> try parsing the index.\n",
      "        * list of int or names. e.g. If [1, 2, 3] -> try parsing columns 1, 2, 3\n",
      "          each as a separate date column.\n",
      "        * list of lists. e.g.  If [[1, 3]] -> combine columns 1 and 3 and parse as\n",
      "          a single date column.\n",
      "        * dict, e.g. {'foo' : [1, 3]} -> parse columns 1, 3 as date and call\n",
      "          result 'foo'\n",
      "    \n",
      "        If a column or index cannot be represented as an array of datetimes,\n",
      "        say because of an unparsable value or a mixture of timezones, the column\n",
      "        or index will be returned unaltered as an object data type. For\n",
      "        non-standard datetime parsing, use ``pd.to_datetime`` after\n",
      "        ``pd.read_csv``. To parse an index or column with a mixture of timezones,\n",
      "        specify ``date_parser`` to be a partially-applied\n",
      "        :func:`pandas.to_datetime` with ``utc=True``. See\n",
      "        :ref:`io.csv.mixed_timezones` for more.\n",
      "    \n",
      "        Note: A fast-path exists for iso8601-formatted dates.\n",
      "    infer_datetime_format : bool, default False\n",
      "        If True and `parse_dates` is enabled, pandas will attempt to infer the\n",
      "        format of the datetime strings in the columns, and if it can be inferred,\n",
      "        switch to a faster method of parsing them. In some cases this can increase\n",
      "        the parsing speed by 5-10x.\n",
      "    keep_date_col : bool, default False\n",
      "        If True and `parse_dates` specifies combining multiple columns then\n",
      "        keep the original columns.\n",
      "    date_parser : function, optional\n",
      "        Function to use for converting a sequence of string columns to an array of\n",
      "        datetime instances. The default uses ``dateutil.parser.parser`` to do the\n",
      "        conversion. Pandas will try to call `date_parser` in three different ways,\n",
      "        advancing to the next if an exception occurs: 1) Pass one or more arrays\n",
      "        (as defined by `parse_dates`) as arguments; 2) concatenate (row-wise) the\n",
      "        string values from the columns defined by `parse_dates` into a single array\n",
      "        and pass that; and 3) call `date_parser` once for each row using one or\n",
      "        more strings (corresponding to the columns defined by `parse_dates`) as\n",
      "        arguments.\n",
      "    dayfirst : bool, default False\n",
      "        DD/MM format dates, international and European format.\n",
      "    cache_dates : bool, default True\n",
      "        If True, use a cache of unique, converted dates to apply the datetime\n",
      "        conversion. May produce significant speed-up when parsing duplicate\n",
      "        date strings, especially ones with timezone offsets.\n",
      "    \n",
      "        .. versionadded:: 0.25.0\n",
      "    iterator : bool, default False\n",
      "        Return TextFileReader object for iteration or getting chunks with\n",
      "        ``get_chunk()``.\n",
      "    \n",
      "        .. versionchanged:: 1.2\n",
      "    \n",
      "           ``TextFileReader`` is a context manager.\n",
      "    chunksize : int, optional\n",
      "        Return TextFileReader object for iteration.\n",
      "        See the `IO Tools docs\n",
      "        <https://pandas.pydata.org/pandas-docs/stable/io.html#io-chunking>`_\n",
      "        for more information on ``iterator`` and ``chunksize``.\n",
      "    \n",
      "        .. versionchanged:: 1.2\n",
      "    \n",
      "           ``TextFileReader`` is a context manager.\n",
      "    compression : {'infer', 'gzip', 'bz2', 'zip', 'xz', None}, default 'infer'\n",
      "        For on-the-fly decompression of on-disk data. If 'infer' and\n",
      "        `filepath_or_buffer` is path-like, then detect compression from the\n",
      "        following extensions: '.gz', '.bz2', '.zip', or '.xz' (otherwise no\n",
      "        decompression). If using 'zip', the ZIP file must contain only one data\n",
      "        file to be read in. Set to None for no decompression.\n",
      "    thousands : str, optional\n",
      "        Thousands separator.\n",
      "    decimal : str, default '.'\n",
      "        Character to recognize as decimal point (e.g. use ',' for European data).\n",
      "    lineterminator : str (length 1), optional\n",
      "        Character to break file into lines. Only valid with C parser.\n",
      "    quotechar : str (length 1), optional\n",
      "        The character used to denote the start and end of a quoted item. Quoted\n",
      "        items can include the delimiter and it will be ignored.\n",
      "    quoting : int or csv.QUOTE_* instance, default 0\n",
      "        Control field quoting behavior per ``csv.QUOTE_*`` constants. Use one of\n",
      "        QUOTE_MINIMAL (0), QUOTE_ALL (1), QUOTE_NONNUMERIC (2) or QUOTE_NONE (3).\n",
      "    doublequote : bool, default ``True``\n",
      "       When quotechar is specified and quoting is not ``QUOTE_NONE``, indicate\n",
      "       whether or not to interpret two consecutive quotechar elements INSIDE a\n",
      "       field as a single ``quotechar`` element.\n",
      "    escapechar : str (length 1), optional\n",
      "        One-character string used to escape other characters.\n",
      "    comment : str, optional\n",
      "        Indicates remainder of line should not be parsed. If found at the beginning\n",
      "        of a line, the line will be ignored altogether. This parameter must be a\n",
      "        single character. Like empty lines (as long as ``skip_blank_lines=True``),\n",
      "        fully commented lines are ignored by the parameter `header` but not by\n",
      "        `skiprows`. For example, if ``comment='#'``, parsing\n",
      "        ``#empty\\na,b,c\\n1,2,3`` with ``header=0`` will result in 'a,b,c' being\n",
      "        treated as the header.\n",
      "    encoding : str, optional\n",
      "        Encoding to use for UTF when reading/writing (ex. 'utf-8'). `List of Python\n",
      "        standard encodings\n",
      "        <https://docs.python.org/3/library/codecs.html#standard-encodings>`_ .\n",
      "    \n",
      "        .. versionchanged:: 1.2\n",
      "    \n",
      "           When ``encoding`` is ``None``, ``errors=\"replace\"`` is passed to\n",
      "           ``open()``. Otherwise, ``errors=\"strict\"`` is passed to ``open()``.\n",
      "           This behavior was previously only the case for ``engine=\"python\"``.\n",
      "    \n",
      "        .. versionchanged:: 1.3.0\n",
      "    \n",
      "           ``encoding_errors`` is a new argument. ``encoding`` has no longer an\n",
      "           influence on how encoding errors are handled.\n",
      "    \n",
      "    encoding_errors : str, optional, default \"strict\"\n",
      "        How encoding errors are treated. `List of possible values\n",
      "        <https://docs.python.org/3/library/codecs.html#error-handlers>`_ .\n",
      "    \n",
      "        .. versionadded:: 1.3.0\n",
      "    \n",
      "    dialect : str or csv.Dialect, optional\n",
      "        If provided, this parameter will override values (default or not) for the\n",
      "        following parameters: `delimiter`, `doublequote`, `escapechar`,\n",
      "        `skipinitialspace`, `quotechar`, and `quoting`. If it is necessary to\n",
      "        override values, a ParserWarning will be issued. See csv.Dialect\n",
      "        documentation for more details.\n",
      "    error_bad_lines : bool, default ``None``\n",
      "        Lines with too many fields (e.g. a csv line with too many commas) will by\n",
      "        default cause an exception to be raised, and no DataFrame will be returned.\n",
      "        If False, then these \"bad lines\" will be dropped from the DataFrame that is\n",
      "        returned.\n",
      "    \n",
      "        .. deprecated:: 1.3.0\n",
      "           The ``on_bad_lines`` parameter should be used instead to specify behavior upon\n",
      "           encountering a bad line instead.\n",
      "    warn_bad_lines : bool, default ``None``\n",
      "        If error_bad_lines is False, and warn_bad_lines is True, a warning for each\n",
      "        \"bad line\" will be output.\n",
      "    \n",
      "        .. deprecated:: 1.3.0\n",
      "           The ``on_bad_lines`` parameter should be used instead to specify behavior upon\n",
      "           encountering a bad line instead.\n",
      "    on_bad_lines : {'error', 'warn', 'skip'}, default 'error'\n",
      "        Specifies what to do upon encountering a bad line (a line with too many fields).\n",
      "        Allowed values are :\n",
      "    \n",
      "            - 'error', raise an Exception when a bad line is encountered.\n",
      "            - 'warn', raise a warning when a bad line is encountered and skip that line.\n",
      "            - 'skip', skip bad lines without raising or warning when they are encountered.\n",
      "    \n",
      "        .. versionadded:: 1.3.0\n",
      "    \n",
      "    delim_whitespace : bool, default False\n",
      "        Specifies whether or not whitespace (e.g. ``' '`` or ``'    '``) will be\n",
      "        used as the sep. Equivalent to setting ``sep='\\s+'``. If this option\n",
      "        is set to True, nothing should be passed in for the ``delimiter``\n",
      "        parameter.\n",
      "    low_memory : bool, default True\n",
      "        Internally process the file in chunks, resulting in lower memory use\n",
      "        while parsing, but possibly mixed type inference.  To ensure no mixed\n",
      "        types either set False, or specify the type with the `dtype` parameter.\n",
      "        Note that the entire file is read into a single DataFrame regardless,\n",
      "        use the `chunksize` or `iterator` parameter to return the data in chunks.\n",
      "        (Only valid with C parser).\n",
      "    memory_map : bool, default False\n",
      "        If a filepath is provided for `filepath_or_buffer`, map the file object\n",
      "        directly onto memory and access the data directly from there. Using this\n",
      "        option can improve performance because there is no longer any I/O overhead.\n",
      "    float_precision : str, optional\n",
      "        Specifies which converter the C engine should use for floating-point\n",
      "        values. The options are ``None`` or 'high' for the ordinary converter,\n",
      "        'legacy' for the original lower precision pandas converter, and\n",
      "        'round_trip' for the round-trip converter.\n",
      "    \n",
      "        .. versionchanged:: 1.2\n",
      "    \n",
      "    storage_options : dict, optional\n",
      "        Extra options that make sense for a particular storage connection, e.g.\n",
      "        host, port, username, password, etc. For HTTP(S) URLs the key-value pairs\n",
      "        are forwarded to ``urllib`` as header options. For other URLs (e.g.\n",
      "        starting with \"s3://\", and \"gcs://\") the key-value pairs are forwarded to\n",
      "        ``fsspec``. Please see ``fsspec`` and ``urllib`` for more details.\n",
      "    \n",
      "        .. versionadded:: 1.2\n",
      "    \n",
      "    Returns\n",
      "    -------\n",
      "    DataFrame or TextParser\n",
      "        A comma-separated values (csv) file is returned as two-dimensional\n",
      "        data structure with labeled axes.\n",
      "    \n",
      "    See Also\n",
      "    --------\n",
      "    DataFrame.to_csv : Write DataFrame to a comma-separated values (csv) file.\n",
      "    read_csv : Read a comma-separated values (csv) file into DataFrame.\n",
      "    read_fwf : Read a table of fixed-width formatted lines into DataFrame.\n",
      "    \n",
      "    Examples\n",
      "    --------\n",
      "    >>> pd.read_csv('data.csv')  # doctest: +SKIP\n",
      "\n"
     ]
    }
   ],
   "source": [
    "help('pandas.read_csv')"
   ]
  },
  {
   "cell_type": "markdown",
   "id": "fced1cc0",
   "metadata": {},
   "source": [
    "# 4. Python basics (following Ch 1 of Python Workshop textbook)"
   ]
  },
  {
   "cell_type": "markdown",
   "id": "25305392",
   "metadata": {},
   "source": [
    "## 4.1 Basic math operations"
   ]
  },
  {
   "cell_type": "code",
   "execution_count": 24,
   "id": "295afb2f",
   "metadata": {},
   "outputs": [
    {
     "data": {
      "text/plain": [
       "7"
      ]
     },
     "execution_count": 24,
     "metadata": {},
     "output_type": "execute_result"
    },
    {
     "data": {
      "text/plain": [
       "3"
      ]
     },
     "execution_count": 24,
     "metadata": {},
     "output_type": "execute_result"
    },
    {
     "data": {
      "text/plain": [
       "10"
      ]
     },
     "execution_count": 24,
     "metadata": {},
     "output_type": "execute_result"
    },
    {
     "data": {
      "text/plain": [
       "2.5"
      ]
     },
     "execution_count": 24,
     "metadata": {},
     "output_type": "execute_result"
    },
    {
     "data": {
      "text/plain": [
       "2"
      ]
     },
     "execution_count": 24,
     "metadata": {},
     "output_type": "execute_result"
    },
    {
     "data": {
      "text/plain": [
       "25"
      ]
     },
     "execution_count": 24,
     "metadata": {},
     "output_type": "execute_result"
    },
    {
     "data": {
      "text/plain": [
       "1"
      ]
     },
     "execution_count": 24,
     "metadata": {},
     "output_type": "execute_result"
    }
   ],
   "source": [
    "#run these basic examples on your machine\n",
    "5+2\n",
    "5-2\n",
    "5*2\n",
    "5/2\n",
    "5//2 #integer division, get rids of the remains \n",
    "5**2 #5 squared\n",
    "5%2 #modulus"
   ]
  },
  {
   "cell_type": "code",
   "execution_count": 17,
   "id": "db67e7d8",
   "metadata": {},
   "outputs": [
    {
     "data": {
      "text/plain": [
       "-5.0"
      ]
     },
     "execution_count": 17,
     "metadata": {},
     "output_type": "execute_result"
    },
    {
     "data": {
      "text/plain": [
       "9"
      ]
     },
     "execution_count": 17,
     "metadata": {},
     "output_type": "execute_result"
    },
    {
     "data": {
      "text/plain": [
       "10"
      ]
     },
     "execution_count": 17,
     "metadata": {},
     "output_type": "execute_result"
    }
   ],
   "source": [
    "#remember your order of operations (when in doubt, use parentheses)\n",
    "(100 - 5 ** 3) / 5\n",
    "6 + 15 % 4 \n",
    "2 ** 2 + 24 // 4"
   ]
  },
  {
   "cell_type": "code",
   "execution_count": 18,
   "id": "bcace07e",
   "metadata": {},
   "outputs": [
    {
     "data": {
      "text/plain": [
       "11"
      ]
     },
     "execution_count": 18,
     "metadata": {},
     "output_type": "execute_result"
    },
    {
     "data": {
      "text/plain": [
       "11"
      ]
     },
     "execution_count": 18,
     "metadata": {},
     "output_type": "execute_result"
    }
   ],
   "source": [
    "#spacing can improve readability (but doesn't change the meaning)\n",
    "6+5\n",
    "6 + 5"
   ]
  },
  {
   "cell_type": "markdown",
   "id": "e42fcb38",
   "metadata": {},
   "source": [
    "## 4.2 Integer vs. float"
   ]
  },
  {
   "cell_type": "code",
   "execution_count": 19,
   "id": "7e4fc4a8",
   "metadata": {},
   "outputs": [
    {
     "data": {
      "text/plain": [
       "int"
      ]
     },
     "execution_count": 19,
     "metadata": {},
     "output_type": "execute_result"
    },
    {
     "data": {
      "text/plain": [
       "float"
      ]
     },
     "execution_count": 19,
     "metadata": {},
     "output_type": "execute_result"
    }
   ],
   "source": [
    "type(6)\n",
    "type(6.0)"
   ]
  },
  {
   "cell_type": "code",
   "execution_count": 20,
   "id": "48ee0f7b",
   "metadata": {},
   "outputs": [
    {
     "data": {
      "text/plain": [
       "8.14"
      ]
     },
     "execution_count": 20,
     "metadata": {},
     "output_type": "execute_result"
    },
    {
     "data": {
      "text/plain": [
       "float"
      ]
     },
     "execution_count": 20,
     "metadata": {},
     "output_type": "execute_result"
    }
   ],
   "source": [
    "#what happens when you add an int and float?\n",
    "5 + 3.14\n",
    "type(5 + 3.14) # convert to a more general form. "
   ]
  },
  {
   "cell_type": "code",
   "execution_count": 21,
   "id": "3097474b",
   "metadata": {},
   "outputs": [
    {
     "data": {
      "text/plain": [
       "7"
      ]
     },
     "execution_count": 21,
     "metadata": {},
     "output_type": "execute_result"
    },
    {
     "data": {
      "text/plain": [
       "6.0"
      ]
     },
     "execution_count": 21,
     "metadata": {},
     "output_type": "execute_result"
    }
   ],
   "source": [
    "#convert to different types\n",
    "int(7.99999999)\n",
    "float(6)"
   ]
  },
  {
   "cell_type": "markdown",
   "id": "44205ca6",
   "metadata": {},
   "source": [
    "## 4.3 Complex numbers"
   ]
  },
  {
   "cell_type": "code",
   "execution_count": 22,
   "id": "33183e5c",
   "metadata": {},
   "outputs": [
    {
     "data": {
      "text/plain": [
       "(-0.5+0.5j)"
      ]
     },
     "execution_count": 22,
     "metadata": {},
     "output_type": "execute_result"
    }
   ],
   "source": [
    "#Python uses j instead of i to represent sqrt(-1) (imaginery number)\n",
    "(2 + 3j)/(1 - 5j)"
   ]
  },
  {
   "cell_type": "markdown",
   "id": "15ab0e9d",
   "metadata": {},
   "source": [
    "## 4.4 Variables"
   ]
  },
  {
   "cell_type": "code",
   "execution_count": 23,
   "id": "eb2fc3e7",
   "metadata": {},
   "outputs": [
    {
     "data": {
      "text/plain": [
       "3"
      ]
     },
     "execution_count": 23,
     "metadata": {},
     "output_type": "execute_result"
    }
   ],
   "source": [
    "x = 2\n",
    "x + 1"
   ]
  },
  {
   "cell_type": "code",
   "execution_count": 24,
   "id": "7261d342",
   "metadata": {},
   "outputs": [
    {
     "data": {
      "text/plain": [
       "4.0"
      ]
     },
     "execution_count": 24,
     "metadata": {},
     "output_type": "execute_result"
    }
   ],
   "source": [
    "x = 3.0\n",
    "x + 1    # c++ won't let you do it since a wrong match.  "
   ]
  },
  {
   "cell_type": "code",
   "execution_count": 25,
   "id": "8b2c2cba",
   "metadata": {},
   "outputs": [
    {
     "data": {
      "text/plain": [
       "int"
      ]
     },
     "execution_count": 25,
     "metadata": {},
     "output_type": "execute_result"
    },
    {
     "data": {
      "text/plain": [
       "float"
      ]
     },
     "execution_count": 25,
     "metadata": {},
     "output_type": "execute_result"
    }
   ],
   "source": [
    "#python is dynamically typed (vs. unchanging types)\n",
    "y = 10\n",
    "type(y)\n",
    "y = y - 10.0\n",
    "type(y)"
   ]
  },
  {
   "cell_type": "markdown",
   "id": "f9963376",
   "metadata": {},
   "source": [
    "### 4.4.1 Reassigning variables in terms of themselves"
   ]
  },
  {
   "cell_type": "code",
   "execution_count": 26,
   "id": "384c4644",
   "metadata": {},
   "outputs": [
    {
     "data": {
      "text/plain": [
       "4"
      ]
     },
     "execution_count": 26,
     "metadata": {},
     "output_type": "execute_result"
    },
    {
     "data": {
      "text/plain": [
       "4"
      ]
     },
     "execution_count": 26,
     "metadata": {},
     "output_type": "execute_result"
    },
    {
     "data": {
      "text/plain": [
       "2"
      ]
     },
     "execution_count": 26,
     "metadata": {},
     "output_type": "execute_result"
    },
    {
     "data": {
      "text/plain": [
       "15"
      ]
     },
     "execution_count": 26,
     "metadata": {},
     "output_type": "execute_result"
    }
   ],
   "source": [
    "x = 3\n",
    "x = x + 1\n",
    "x\n",
    "\n",
    "x = 3\n",
    "x += 1   # use shorthand \n",
    "x\n",
    "\n",
    "x = 3\n",
    "x -= 1\n",
    "x\n",
    "\n",
    "x = 3\n",
    "x *= 5\n",
    "x"
   ]
  },
  {
   "cell_type": "code",
   "execution_count": null,
   "id": "31389c2c",
   "metadata": {},
   "outputs": [],
   "source": [
    "# variables can not start with numbers, special characters, keywords, nor built-in types\n",
    "$&^city = 5"
   ]
  },
  {
   "cell_type": "code",
   "execution_count": null,
   "id": "9ef772e3",
   "metadata": {},
   "outputs": [],
   "source": [
    "# variables cannot contain spaces between characters\n",
    "best city = 'College Station'"
   ]
  },
  {
   "cell_type": "code",
   "execution_count": 29,
   "id": "81588966",
   "metadata": {},
   "outputs": [
    {
     "name": "stdout",
     "output_type": "stream",
     "text": [
      "['False', 'None', 'True', 'and', 'as', 'assert', 'async', 'await', 'break', 'class', 'continue', 'def', 'del', 'elif', 'else', 'except', 'finally', 'for', 'from', 'global', 'if', 'import', 'in', 'is', 'lambda', 'nonlocal', 'not', 'or', 'pass', 'raise', 'return', 'try', 'while', 'with', 'yield']\n"
     ]
    }
   ],
   "source": [
    "# keywords to avoid when naming variables (Python will throw an error)\n",
    "import keyword\n",
    "print(keyword.kwlist)"
   ]
  },
  {
   "cell_type": "code",
   "execution_count": 30,
   "id": "3a27dcc1",
   "metadata": {},
   "outputs": [
    {
     "data": {
      "text/plain": [
       "'College Station'"
      ]
     },
     "execution_count": 30,
     "metadata": {},
     "output_type": "execute_result"
    }
   ],
   "source": [
    "# underscores are helpful\n",
    "best_city = 'College Station'\n",
    "best_city"
   ]
  },
  {
   "cell_type": "markdown",
   "id": "9778ec11",
   "metadata": {},
   "source": [
    "### 4.4.2 Declaring multiple variables (the Pythonic way)"
   ]
  },
  {
   "cell_type": "code",
   "execution_count": 31,
   "id": "0e6e7c9e",
   "metadata": {},
   "outputs": [
    {
     "data": {
      "text/plain": [
       "8"
      ]
     },
     "execution_count": 31,
     "metadata": {},
     "output_type": "execute_result"
    },
    {
     "data": {
      "text/plain": [
       "5"
      ]
     },
     "execution_count": 31,
     "metadata": {},
     "output_type": "execute_result"
    },
    {
     "data": {
      "text/plain": [
       "'cat'"
      ]
     },
     "execution_count": 31,
     "metadata": {},
     "output_type": "execute_result"
    }
   ],
   "source": [
    "x, y, z = 8, 5, 'cat'\n",
    "x\n",
    "y\n",
    "z"
   ]
  },
  {
   "cell_type": "markdown",
   "id": "256bbc1c",
   "metadata": {},
   "source": [
    "## 4.5 Docstrings vs. comments"
   ]
  },
  {
   "cell_type": "code",
   "execution_count": 32,
   "id": "96d82a8c",
   "metadata": {},
   "outputs": [
    {
     "data": {
      "text/plain": [
       "\"\\nDocstrings are like comments in that nothing happens when\\nyou execute this cell.  However, they are typically used \\nwhen developers want to provide a description on what\\na particular 'document' (e.g. program, function, class, etc.)\\nactually does.  These descriptions typically span\\nmultiple lines vs. comments which typically span one line.\\n\""
      ]
     },
     "execution_count": 32,
     "metadata": {},
     "output_type": "execute_result"
    }
   ],
   "source": [
    "# this is a comment\n",
    "\"\"\"\n",
    "Docstrings are like comments in that nothing happens when\n",
    "you execute this cell.  However, they are typically used \n",
    "when developers want to provide a description on what\n",
    "a particular 'document' (e.g. program, function, class, etc.)\n",
    "actually does.  These descriptions typically span\n",
    "multiple lines vs. comments which typically span one line.\n",
    "\"\"\""
   ]
  },
  {
   "cell_type": "markdown",
   "id": "36371452",
   "metadata": {},
   "source": [
    "## 4.6 Strings"
   ]
  },
  {
   "cell_type": "code",
   "execution_count": 33,
   "id": "6b3fa0a6",
   "metadata": {},
   "outputs": [
    {
     "data": {
      "text/plain": [
       "'City Lights'"
      ]
     },
     "execution_count": 33,
     "metadata": {},
     "output_type": "execute_result"
    },
    {
     "data": {
      "text/plain": [
       "'City Lights'"
      ]
     },
     "execution_count": 33,
     "metadata": {},
     "output_type": "execute_result"
    }
   ],
   "source": [
    "bookstore = 'City Lights'\n",
    "bookstore\n",
    "bookstore = \"City Lights\"\n",
    "bookstore"
   ]
  },
  {
   "cell_type": "code",
   "execution_count": null,
   "id": "e2c1028c",
   "metadata": {},
   "outputs": [],
   "source": [
    "#be consistent!\n",
    "bookstore = 'City Lights\""
   ]
  },
  {
   "cell_type": "code",
   "execution_count": null,
   "id": "039077f3",
   "metadata": {},
   "outputs": [],
   "source": [
    "#strings with apostrophes\n",
    "bookstore = 'Moe's'"
   ]
  },
  {
   "cell_type": "code",
   "execution_count": 36,
   "id": "722041d4",
   "metadata": {},
   "outputs": [
    {
     "data": {
      "text/plain": [
       "\"Moe's\""
      ]
     },
     "execution_count": 36,
     "metadata": {},
     "output_type": "execute_result"
    }
   ],
   "source": [
    "bookstore = \"Moe's\"\n",
    "bookstore"
   ]
  },
  {
   "cell_type": "code",
   "execution_count": 37,
   "id": "5062d853",
   "metadata": {},
   "outputs": [
    {
     "data": {
      "text/plain": [
       "\"Moe's\""
      ]
     },
     "execution_count": 37,
     "metadata": {},
     "output_type": "execute_result"
    }
   ],
   "source": [
    "bookstore = 'Moe\\'s'\n",
    "bookstore"
   ]
  },
  {
   "cell_type": "markdown",
   "id": "505b3590",
   "metadata": {},
   "source": [
    "### 4.6.1 Multi line strings"
   ]
  },
  {
   "cell_type": "code",
   "execution_count": 38,
   "id": "dde4e3bb",
   "metadata": {},
   "outputs": [
    {
     "data": {
      "text/plain": [
       "'\\nDuring our vacation to San Francisco, we\\nwaiting in a long line by Powell St. Station\\nto take the cable car.\\n\\nTap dancers performed on wooden boards.\\n\\nWe started to look for a good place to eat\\nwhen the cable car arrived.\\n'"
      ]
     },
     "execution_count": 38,
     "metadata": {},
     "output_type": "execute_result"
    },
    {
     "name": "stdout",
     "output_type": "stream",
     "text": [
      "\n",
      "During our vacation to San Francisco, we\n",
      "waiting in a long line by Powell St. Station\n",
      "to take the cable car.\n",
      "\n",
      "Tap dancers performed on wooden boards.\n",
      "\n",
      "We started to look for a good place to eat\n",
      "when the cable car arrived.\n",
      "\n"
     ]
    }
   ],
   "source": [
    "vacation_note = \"\"\"\n",
    "During our vacation to San Francisco, we\n",
    "waiting in a long line by Powell St. Station\n",
    "to take the cable car.\n",
    "\n",
    "Tap dancers performed on wooden boards.\n",
    "\n",
    "We started to look for a good place to eat\n",
    "when the cable car arrived.\n",
    "\"\"\"\n",
    "vacation_note\n",
    "#notice the escape sequences denoting the line breaks (\\n)\n",
    "\n",
    "print(vacation_note)  # print out in a nice way. "
   ]
  },
  {
   "cell_type": "markdown",
   "id": "299c22a2",
   "metadata": {},
   "source": [
    "### 4.6.2 String concatenation"
   ]
  },
  {
   "cell_type": "code",
   "execution_count": 27,
   "id": "d4884efe",
   "metadata": {},
   "outputs": [
    {
     "name": "stdout",
     "output_type": "stream",
     "text": [
      "HowdySir.\n",
      "Howdy Sir.\n",
      "Howdy Howdy Howdy Howdy Howdy \n"
     ]
    }
   ],
   "source": [
    "greeting = 'Howdy'\n",
    "print(greeting + 'Sir.')\n",
    "greeting = 'Howdy '\n",
    "print(greeting + 'Sir.')\n",
    "print(greeting * 5)\n"
   ]
  },
  {
   "cell_type": "markdown",
   "id": "5071b537",
   "metadata": {},
   "source": [
    "### 4.6.3 String interpolation"
   ]
  },
  {
   "cell_type": "code",
   "execution_count": 28,
   "id": "ccc6d570",
   "metadata": {},
   "outputs": [
    {
     "name": "stdout",
     "output_type": "stream",
     "text": [
      "Should we greet people with Howdy in College Station?\n"
     ]
    }
   ],
   "source": [
    "greeting = 'Howdy'\n",
    "print('Should we greet people with', greeting, 'in College Station?')"
   ]
  },
  {
   "cell_type": "code",
   "execution_count": 29,
   "id": "1d83f852",
   "metadata": {},
   "outputs": [
    {
     "name": "stdout",
     "output_type": "stream",
     "text": [
      "The founder of City Lights Bookstore, Lawrence Ferlinghetti, is now 100 years old.\n"
     ]
    }
   ],
   "source": [
    "owner = 'Lawrence Ferlinghetti'\n",
    "age = 100\n",
    "print('The founder of City Lights Bookstore, {}, is now {} years old.'.format(owner,age))"
   ]
  },
  {
   "cell_type": "markdown",
   "id": "675bc1e9",
   "metadata": {},
   "source": [
    "### 4.6.4 Built-in string functions"
   ]
  },
  {
   "cell_type": "code",
   "execution_count": 30,
   "id": "e8b5ea04",
   "metadata": {},
   "outputs": [
    {
     "data": {
      "text/plain": [
       "5"
      ]
     },
     "execution_count": 30,
     "metadata": {},
     "output_type": "execute_result"
    }
   ],
   "source": [
    "len(greeting)"
   ]
  },
  {
   "cell_type": "code",
   "execution_count": 43,
   "id": "686b7701",
   "metadata": {},
   "outputs": [],
   "source": [
    "len(g) # click tab and the available variables will pop up. it's useful when you forget variable name\n",
    "#use tab completion to find variables\n",
    "#type len(g then hit the tab button\n",
    "#type greeting. then hit the tab button\n",
    "greeting.  # you will see all the available functions for working with the string. this can give you everyting function you \n",
    "# can do with the object. "
   ]
  },
  {
   "cell_type": "code",
   "execution_count": 31,
   "id": "bc071aae",
   "metadata": {},
   "outputs": [
    {
     "data": {
      "text/plain": [
       "'howdy'"
      ]
     },
     "execution_count": 31,
     "metadata": {},
     "output_type": "execute_result"
    },
    {
     "data": {
      "text/plain": [
       "'HOWDY'"
      ]
     },
     "execution_count": 31,
     "metadata": {},
     "output_type": "execute_result"
    },
    {
     "data": {
      "text/plain": [
       "True"
      ]
     },
     "execution_count": 31,
     "metadata": {},
     "output_type": "execute_result"
    },
    {
     "data": {
      "text/plain": [
       "1"
      ]
     },
     "execution_count": 31,
     "metadata": {},
     "output_type": "execute_result"
    }
   ],
   "source": [
    "greeting.lower()\n",
    "greeting.upper()\n",
    "greeting.endswith('y')\n",
    "greeting.count('w')"
   ]
  },
  {
   "cell_type": "markdown",
   "id": "ec8267f7",
   "metadata": {},
   "source": [
    "### 4.6.5 Casting"
   ]
  },
  {
   "cell_type": "code",
   "execution_count": 45,
   "id": "10d6e628",
   "metadata": {},
   "outputs": [
    {
     "data": {
      "text/plain": [
       "str"
      ]
     },
     "execution_count": 45,
     "metadata": {},
     "output_type": "execute_result"
    },
    {
     "data": {
      "text/plain": [
       "'57'"
      ]
     },
     "execution_count": 45,
     "metadata": {},
     "output_type": "execute_result"
    },
    {
     "data": {
      "text/plain": [
       "12"
      ]
     },
     "execution_count": 45,
     "metadata": {},
     "output_type": "execute_result"
    }
   ],
   "source": [
    "type('5')\n",
    "'5' + '7'\n",
    "int('5') + int('7')"
   ]
  },
  {
   "cell_type": "markdown",
   "id": "968c8ca7",
   "metadata": {},
   "source": [
    "### 4.6.6 Inputs from user"
   ]
  },
  {
   "cell_type": "code",
   "execution_count": 32,
   "id": "b1d2c220",
   "metadata": {},
   "outputs": [
    {
     "name": "stdout",
     "output_type": "stream",
     "text": [
      "What is your name?\n",
      "rose\n",
      "Hello, rose.\n"
     ]
    }
   ],
   "source": [
    "print('What is your name?')\n",
    "name = input()\n",
    "print('Hello, ' + name + '.')\n",
    "#If an error arises, restart the kernel"
   ]
  },
  {
   "cell_type": "markdown",
   "id": "70c4bc47",
   "metadata": {},
   "source": [
    "### 4.6.7 String slicing and indexing"
   ]
  },
  {
   "cell_type": "code",
   "execution_count": 47,
   "id": "918792d1",
   "metadata": {},
   "outputs": [
    {
     "data": {
      "text/plain": [
       "'C'"
      ]
     },
     "execution_count": 47,
     "metadata": {},
     "output_type": "execute_result"
    },
    {
     "data": {
      "text/plain": [
       "'o'"
      ]
     },
     "execution_count": 47,
     "metadata": {},
     "output_type": "execute_result"
    },
    {
     "data": {
      "text/plain": [
       "'n'"
      ]
     },
     "execution_count": 47,
     "metadata": {},
     "output_type": "execute_result"
    },
    {
     "data": {
      "text/plain": [
       "' '"
      ]
     },
     "execution_count": 47,
     "metadata": {},
     "output_type": "execute_result"
    }
   ],
   "source": [
    "#Python starts at 0 when indexing\n",
    "destination = 'College Station'\n",
    "destination[0]\n",
    "destination[1]\n",
    "destination[-1]\n",
    "destination[7]"
   ]
  },
  {
   "cell_type": "code",
   "execution_count": 48,
   "id": "ee2899ff",
   "metadata": {},
   "outputs": [
    {
     "data": {
      "text/plain": [
       "'College'"
      ]
     },
     "execution_count": 48,
     "metadata": {},
     "output_type": "execute_result"
    }
   ],
   "source": [
    "#Slicing\n",
    "destination[0:7]\n",
    "#Caution: lower bound of slice is always included, but upper bound is not!"
   ]
  },
  {
   "cell_type": "code",
   "execution_count": 49,
   "id": "62760d8d",
   "metadata": {},
   "outputs": [
    {
     "data": {
      "text/plain": [
       "'College St'"
      ]
     },
     "execution_count": 49,
     "metadata": {},
     "output_type": "execute_result"
    },
    {
     "data": {
      "text/plain": [
       "'ion'"
      ]
     },
     "execution_count": 49,
     "metadata": {},
     "output_type": "execute_result"
    }
   ],
   "source": [
    "#shortcut: omit the first numerical character to start at the beginning\n",
    "destination[:10]\n",
    "#shortcut: omit the last numerical character to go to the end and use a negative to specify how many before\n",
    "destination[-3:]"
   ]
  },
  {
   "cell_type": "markdown",
   "id": "8496f5b0",
   "metadata": {},
   "source": [
    "## 4.7 Booleans and conditionals"
   ]
  },
  {
   "cell_type": "code",
   "execution_count": 50,
   "id": "8992d862",
   "metadata": {},
   "outputs": [
    {
     "data": {
      "text/plain": [
       "bool"
      ]
     },
     "execution_count": 50,
     "metadata": {},
     "output_type": "execute_result"
    }
   ],
   "source": [
    "over_18 = True\n",
    "type(over_18)"
   ]
  },
  {
   "cell_type": "code",
   "execution_count": 51,
   "id": "74706b05",
   "metadata": {},
   "outputs": [
    {
     "data": {
      "text/plain": [
       "False"
      ]
     },
     "execution_count": 51,
     "metadata": {},
     "output_type": "execute_result"
    }
   ],
   "source": [
    "over_21 = False\n",
    "over_21"
   ]
  },
  {
   "cell_type": "markdown",
   "id": "8b164b52",
   "metadata": {},
   "source": [
    "### 4.7.1 Logical operators"
   ]
  },
  {
   "cell_type": "code",
   "execution_count": 52,
   "id": "274e3bdb",
   "metadata": {},
   "outputs": [
    {
     "data": {
      "text/plain": [
       "False"
      ]
     },
     "execution_count": 52,
     "metadata": {},
     "output_type": "execute_result"
    },
    {
     "data": {
      "text/plain": [
       "True"
      ]
     },
     "execution_count": 52,
     "metadata": {},
     "output_type": "execute_result"
    },
    {
     "data": {
      "text/plain": [
       "False"
      ]
     },
     "execution_count": 52,
     "metadata": {},
     "output_type": "execute_result"
    },
    {
     "data": {
      "text/plain": [
       "True"
      ]
     },
     "execution_count": 52,
     "metadata": {},
     "output_type": "execute_result"
    },
    {
     "data": {
      "text/plain": [
       "False"
      ]
     },
     "execution_count": 52,
     "metadata": {},
     "output_type": "execute_result"
    }
   ],
   "source": [
    "over_18 and over_21\n",
    "over_18 or over_21\n",
    "not over_18\n",
    "not over_21 or (over_21 or over_18) #combine logical operators\n",
    "not (over_21 or (over_21 or over_18)) #parentheses matter"
   ]
  },
  {
   "cell_type": "markdown",
   "id": "b0b77e73",
   "metadata": {},
   "source": [
    "### 4.7.2 Comparison Operators"
   ]
  },
  {
   "cell_type": "code",
   "execution_count": 53,
   "id": "44a21dca",
   "metadata": {},
   "outputs": [
    {
     "data": {
      "text/plain": [
       "False"
      ]
     },
     "execution_count": 53,
     "metadata": {},
     "output_type": "execute_result"
    },
    {
     "data": {
      "text/plain": [
       "True"
      ]
     },
     "execution_count": 53,
     "metadata": {},
     "output_type": "execute_result"
    },
    {
     "data": {
      "text/plain": [
       "True"
      ]
     },
     "execution_count": 53,
     "metadata": {},
     "output_type": "execute_result"
    },
    {
     "data": {
      "text/plain": [
       "False"
      ]
     },
     "execution_count": 53,
     "metadata": {},
     "output_type": "execute_result"
    },
    {
     "data": {
      "text/plain": [
       "True"
      ]
     },
     "execution_count": 53,
     "metadata": {},
     "output_type": "execute_result"
    }
   ],
   "source": [
    "age = 20\n",
    "age < 13\n",
    "age >= 4\n",
    "age == 20\n",
    "age != 20\n",
    "age >= 20 and age <= 21 #combine with logical operators"
   ]
  },
  {
   "cell_type": "code",
   "execution_count": 54,
   "id": "79aed142",
   "metadata": {},
   "outputs": [
    {
     "data": {
      "text/plain": [
       "True"
      ]
     },
     "execution_count": 54,
     "metadata": {},
     "output_type": "execute_result"
    },
    {
     "data": {
      "text/plain": [
       "False"
      ]
     },
     "execution_count": 54,
     "metadata": {},
     "output_type": "execute_result"
    }
   ],
   "source": [
    "#equivalence can take place across different data types\n",
    "6 == 6.0 \n",
    "\n",
    "#but not always\n",
    "6 == '6'\n",
    "\n",
    "#pro tip: cast objects to be the same type before checking equivalence"
   ]
  },
  {
   "cell_type": "code",
   "execution_count": 55,
   "id": "d421f760",
   "metadata": {},
   "outputs": [
    {
     "data": {
      "text/plain": [
       "True"
      ]
     },
     "execution_count": 55,
     "metadata": {},
     "output_type": "execute_result"
    }
   ],
   "source": [
    "age=20\n",
    "\n",
    "#use parentheses for clarity\n",
    "(20 <= age < 30) or (30 <= age < 40)"
   ]
  },
  {
   "cell_type": "markdown",
   "id": "70263b91",
   "metadata": {},
   "source": [
    "### 4.7.3 Comparing strings"
   ]
  },
  {
   "cell_type": "code",
   "execution_count": 56,
   "id": "10ee41c0",
   "metadata": {},
   "outputs": [
    {
     "data": {
      "text/plain": [
       "True"
      ]
     },
     "execution_count": 56,
     "metadata": {},
     "output_type": "execute_result"
    },
    {
     "data": {
      "text/plain": [
       "False"
      ]
     },
     "execution_count": 56,
     "metadata": {},
     "output_type": "execute_result"
    }
   ],
   "source": [
    "#alphabetical order is used to compare strings\n",
    "'a' < 'c'\n",
    "'Austin' > 'College Station'"
   ]
  },
  {
   "cell_type": "markdown",
   "id": "64a766b7",
   "metadata": {},
   "source": [
    "### 4.7.4 Conditionals (if)"
   ]
  },
  {
   "cell_type": "code",
   "execution_count": 57,
   "id": "3ac6e832",
   "metadata": {},
   "outputs": [
    {
     "data": {
      "text/plain": [
       "'\\nimportant features of the if statement:\\n1) if keyword (start here)\\n2) everything between the if keyword and the colon (:) is the condition to be checked\\n3) colon(:) indicates the completion of the condition (compiler \\n   then looks back to see if condition is true or false)\\n4) everything that follows the colon MUST be indented\\n'"
      ]
     },
     "execution_count": 57,
     "metadata": {},
     "output_type": "execute_result"
    }
   ],
   "source": [
    "age=20\n",
    "if age < 18:\n",
    "    print('You aren\\'t old enough to vote.')\n",
    "\n",
    "\"\"\"\n",
    "important features of the if statement:\n",
    "1) if keyword (start here)\n",
    "2) everything between the if keyword and the colon (:) is the condition to be checked\n",
    "3) colon(:) indicates the completion of the condition (compiler \n",
    "   then looks back to see if condition is true or false)\n",
    "4) everything that follows the colon MUST be indented\n",
    "\"\"\""
   ]
  },
  {
   "cell_type": "code",
   "execution_count": null,
   "id": "7771f704",
   "metadata": {},
   "outputs": [],
   "source": [
    "#indentation matters (generally can be accomplished with 4 spaces or the tab key)\n",
    "age=20\n",
    "if age < 18:\n",
    "print('You aren\\'t old enough to vote.')"
   ]
  },
  {
   "cell_type": "code",
   "execution_count": 35,
   "id": "accae49d",
   "metadata": {},
   "outputs": [],
   "source": [
    "#indentation matters (generally can be accomplished with 4 spaces or the tab key)\n",
    "age=20\n",
    "if age < 18:\n",
    "    print('You aren\\'t old enough to vote.')"
   ]
  },
  {
   "cell_type": "code",
   "execution_count": 34,
   "id": "95580c90",
   "metadata": {},
   "outputs": [
    {
     "name": "stdout",
     "output_type": "stream",
     "text": [
      "You can vote.\n"
     ]
    }
   ],
   "source": [
    "#Nested conditionals with more indentation\n",
    "age=20\n",
    "if age >=18:\n",
    "    print('You can vote.')\n",
    "    if age >= 21:\n",
    "        print('You can play poker.')"
   ]
  },
  {
   "cell_type": "markdown",
   "id": "59a44dbc",
   "metadata": {},
   "source": [
    "### 4.7.5 Conditionals (if-else)"
   ]
  },
  {
   "cell_type": "code",
   "execution_count": 61,
   "id": "d926afe0",
   "metadata": {},
   "outputs": [
    {
     "name": "stdout",
     "output_type": "stream",
     "text": [
      "Welcome to our voting program.\n"
     ]
    }
   ],
   "source": [
    "age=20\n",
    "if age >= 18:\n",
    "    print('Welcome to our voting program.')\n",
    "else:\n",
    "    print('You aren\\'t old enough to vote.')\n",
    "        "
   ]
  },
  {
   "cell_type": "markdown",
   "id": "fff9a3b3",
   "metadata": {},
   "source": [
    "### 4.7.6 Conditionals (elif)"
   ]
  },
  {
   "cell_type": "code",
   "execution_count": 62,
   "id": "bbd25d5e",
   "metadata": {},
   "outputs": [
    {
     "name": "stdout",
     "output_type": "stream",
     "text": [
      "Each day is magical.\n"
     ]
    }
   ],
   "source": [
    "#sort for else if\n",
    "age=20\n",
    "if age <= 10:\n",
    "    print('Listen, learn, and have fun.')\n",
    "elif age <= 19:\n",
    "    print('Go fearlessly forward.')\n",
    "else:\n",
    "    print('Each day is magical.')"
   ]
  },
  {
   "cell_type": "markdown",
   "id": "7a952b28",
   "metadata": {},
   "source": [
    "## 4.8 Loops"
   ]
  },
  {
   "cell_type": "markdown",
   "id": "38749a1b",
   "metadata": {},
   "source": [
    "### 4.8.1 While loops"
   ]
  },
  {
   "cell_type": "code",
   "execution_count": 63,
   "id": "08f0dd16",
   "metadata": {},
   "outputs": [
    {
     "name": "stdout",
     "output_type": "stream",
     "text": [
      "1\n",
      "2\n",
      "3\n",
      "4\n",
      "5\n",
      "6\n",
      "7\n",
      "8\n",
      "9\n",
      "10\n"
     ]
    }
   ],
   "source": [
    "# while loop example\n",
    "i = 1 # initialize the variable\n",
    "while i <= 10: #set up the condition that must be met for the loop to run\n",
    "    print(i) #specify what should be done if the condition is met\n",
    "    i += 1 #increment the variable\n",
    "    \n",
    "# Note: you will get stuck in infinite loops.  It happens to everyone.  When this happens,\n",
    "# just restart the kernel."
   ]
  },
  {
   "cell_type": "markdown",
   "id": "07246980",
   "metadata": {},
   "source": [
    "### 4.8.2 Breaks"
   ]
  },
  {
   "cell_type": "code",
   "execution_count": 64,
   "id": "e6211906",
   "metadata": {},
   "outputs": [
    {
     "name": "stdout",
     "output_type": "stream",
     "text": [
      " 102 is the first number greater than 100 that is divisible by 17.\n"
     ]
    }
   ],
   "source": [
    "x=100\n",
    "while x <= 1000:\n",
    "    x += 1\n",
    "    if x % 17 == 0:\n",
    "        print('', x, 'is the first number greater than 100 that is divisible by 17.')\n",
    "        break"
   ]
  },
  {
   "cell_type": "markdown",
   "id": "0dc82521",
   "metadata": {},
   "source": [
    "### 4.8.3 Exercise 19: The Real Estate Offer"
   ]
  },
  {
   "cell_type": "code",
   "execution_count": 42,
   "id": "0b3519e6",
   "metadata": {},
   "outputs": [
    {
     "name": "stdout",
     "output_type": "stream",
     "text": [
      "A one bedroom in the Bay Area is listed at $599,000.\n",
      "Enter your first offer on the house.\n",
      "400000\n",
      "Enter your best offer on the house.\n",
      "700000\n",
      "How much more do you want to offer each time?\n",
      "100000\n",
      "We're sorry, you're offer of 400000 has not been accepted.\n",
      "We're sorry, you're offer of 500000 has not been accepted.\n",
      "We're sorry, you're offer of 600000 has not been accepted.\n",
      "Your offer of 700000 has been accepted!\n"
     ]
    }
   ],
   "source": [
    "print('A one bedroom in the Bay Area is listed at $599,000.')\n",
    "print('Enter your first offer on the house.')\n",
    "offer = abs(int(input()))\n",
    "print('Enter your best offer on the house.')\n",
    "best = abs(int(input()))\n",
    "print('How much more do you want to offer each time?')\n",
    "increment = abs(int(input()))\n",
    "\n",
    "offer_accepted = False\n",
    "while offer <= best:\n",
    "    if offer >= 650000:\n",
    "        offer_accepted = True\n",
    "        print('Your offer of', offer, 'has been accepted!')\n",
    "        break\n",
    "    else:\n",
    "        print('We\\'re sorry, you\\'re offer of',offer,'has not been accepted.')\n",
    "        offer += increment\n"
   ]
  },
  {
   "cell_type": "markdown",
   "id": "b0351b38",
   "metadata": {},
   "source": [
    "### 4.8.4 For loops"
   ]
  },
  {
   "cell_type": "code",
   "execution_count": 43,
   "id": "456e2c0e",
   "metadata": {},
   "outputs": [
    {
     "name": "stdout",
     "output_type": "stream",
     "text": [
      "B\n",
      "r\n",
      "y\n",
      "a\n",
      "n\n"
     ]
    }
   ],
   "source": [
    "for i in 'Bryan':\n",
    "    print(i)"
   ]
  },
  {
   "cell_type": "code",
   "execution_count": 67,
   "id": "42a7e5dd",
   "metadata": {},
   "outputs": [
    {
     "name": "stdout",
     "output_type": "stream",
     "text": [
      "1\n",
      "2\n",
      "3\n",
      "4\n",
      "5\n",
      "6\n",
      "7\n",
      "8\n",
      "9\n"
     ]
    }
   ],
   "source": [
    "for i in range(1,10):\n",
    "    print(i)\n",
    "#notice the range doesn't include 10"
   ]
  },
  {
   "cell_type": "code",
   "execution_count": 68,
   "id": "54fe5675",
   "metadata": {},
   "outputs": [
    {
     "name": "stdout",
     "output_type": "stream",
     "text": [
      "0\n",
      "1\n",
      "2\n",
      "3\n",
      "4\n",
      "5\n",
      "6\n",
      "7\n",
      "8\n",
      "9\n"
     ]
    }
   ],
   "source": [
    "for i in range(10):\n",
    "    print(i)\n",
    "#providing only 1 argument to range uses 0 to start and gives the first 10 numbers"
   ]
  },
  {
   "cell_type": "code",
   "execution_count": 69,
   "id": "0c1e1d57",
   "metadata": {},
   "outputs": [
    {
     "name": "stdout",
     "output_type": "stream",
     "text": [
      "1\n",
      "3\n",
      "5\n",
      "7\n",
      "9\n"
     ]
    }
   ],
   "source": [
    "for i in range(1,11,2):\n",
    "    print(i)\n",
    "#the third argument is the increment"
   ]
  },
  {
   "cell_type": "code",
   "execution_count": 70,
   "id": "5e0ea5cb",
   "metadata": {},
   "outputs": [
    {
     "name": "stdout",
     "output_type": "stream",
     "text": [
      "3\n",
      "2\n",
      "1\n"
     ]
    }
   ],
   "source": [
    "for i in range(3,0,-1):\n",
    "    print(i)\n",
    "#increments can be negative"
   ]
  },
  {
   "cell_type": "markdown",
   "id": "590617df",
   "metadata": {},
   "source": [
    "### The continue keyword"
   ]
  },
  {
   "cell_type": "code",
   "execution_count": 71,
   "id": "412f39ab",
   "metadata": {},
   "outputs": [
    {
     "name": "stdout",
     "output_type": "stream",
     "text": [
      "11\n",
      "13\n",
      "17\n",
      "19\n",
      "23\n",
      "29\n",
      "31\n",
      "37\n",
      "41\n",
      "43\n",
      "47\n",
      "53\n",
      "59\n",
      "61\n",
      "67\n",
      "71\n",
      "73\n",
      "79\n",
      "83\n",
      "89\n",
      "97\n"
     ]
    }
   ],
   "source": [
    "#used to interrupt the instructions provided in the loop and return to the beginning of the loop\n",
    "for num in range(10,100):\n",
    "    if num % 2 == 0:\n",
    "        continue\n",
    "    if num % 3 == 0:\n",
    "        continue\n",
    "    if num % 5 == 0:\n",
    "        continue\n",
    "    if num % 7 == 0:\n",
    "        continue\n",
    "    print(num)\n",
    "    #what is the output from this loop? # prime number"
   ]
  }
 ],
 "metadata": {
  "kernelspec": {
   "display_name": "Python 3 (ipykernel)",
   "language": "python",
   "name": "python3"
  },
  "language_info": {
   "codemirror_mode": {
    "name": "ipython",
    "version": 3
   },
   "file_extension": ".py",
   "mimetype": "text/x-python",
   "name": "python",
   "nbconvert_exporter": "python",
   "pygments_lexer": "ipython3",
   "version": "3.10.14"
  }
 },
 "nbformat": 4,
 "nbformat_minor": 5
}
