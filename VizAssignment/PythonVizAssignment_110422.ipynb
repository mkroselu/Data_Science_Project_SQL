{
 "cells": [
  {
   "cell_type": "markdown",
   "id": "e23ba2ae",
   "metadata": {},
   "source": [
    "# Group Assignment: Data Preparation and Visualization"
   ]
  },
  {
   "cell_type": "markdown",
   "id": "d9152c88",
   "metadata": {},
   "source": [
    "### Instructions: \n",
    "You will be presented with a scenario and will need to utilize your SQL and python skills to complete this assignment successfully. \n",
    "\n",
    "Put this .ipynb file in the `jupyter_notebooks` folder in your Docker Compose directory.  Then you will be able to connect to the database and run your code without issue.\n",
    "\n",
    "Each group will submit two files:\n",
    "1. a single Jupyter Notebook (.ipynb).  **You must Run All cells before submitting.** This notebook should have all of the relevant visualizations and output displayed properly.  We will restart and run all of the code from this notebook, which should not produce any errors.\n",
    "2. a PDF version (.pdf) of the Jupyter Notebook. This PDF should have all of the relevant visualizations and output displayed properly. "
   ]
  },
  {
   "cell_type": "code",
   "execution_count": 1,
   "id": "9b8b37e6",
   "metadata": {},
   "outputs": [
    {
     "name": "stdout",
     "output_type": "stream",
     "text": [
      "postgresql+psycopg2://{username}:{pswd}@{host}:{port}/{database}\n"
     ]
    },
    {
     "data": {
      "text/plain": [
       "[(1, None, 'Arlena', 'Riveles', None, 'ariveles0@stumbleupon.com', 'F', '98.36.172.246', None, None, None, None, None, None, None, datetime.datetime(2017, 4, 23, 0, 0)),\n",
       " (2, 'Dr', 'Ode', 'Stovin', None, 'ostovin1@npr.org', 'M', '16.97.59.186', '314-534-4361', '2573 Fordem Parkway', 'Saint Louis', 'MO', '63116', 38.5814, -90.2625, datetime.datetime(2014, 10, 2, 0, 0))]"
      ]
     },
     "execution_count": 1,
     "metadata": {},
     "output_type": "execute_result"
    }
   ],
   "source": [
    "#run this code first to connect to the database and verify the connection is working\n",
    "## DO NOT MODIFY THIS CODE BLOCK\n",
    "## If you have placed this notebook in the jupyter notebooks folder properly, \n",
    "## this block should return the first two rows of the customers table\n",
    "\n",
    "from sqlalchemy import create_engine\n",
    "import pandas as pd\n",
    "import numpy as np\n",
    "import matplotlib.pyplot as plt\n",
    "import seaborn as sns\n",
    "from IPython.core.interactiveshell import InteractiveShell\n",
    "InteractiveShell.ast_node_interactivity = \"all\"\n",
    "\n",
    "%matplotlib inline\n",
    "\n",
    "cnxn_string = (\"postgresql+psycopg2://{username}:{pswd}\"\n",
    "              \"@{host}:{port}/{database}\")\n",
    "print(cnxn_string)\n",
    "\n",
    "engine = create_engine(cnxn_string.format(\n",
    "    username=\"postgres\",\n",
    "    pswd=\"behappy\",\n",
    "    host=\"postgres\",\n",
    "    port=5432,\n",
    "    database=\"sqlda\"))\n",
    "\n",
    "engine.execute(\"SELECT * FROM customers LIMIT 2;\").fetchall()"
   ]
  },
  {
   "cell_type": "markdown",
   "id": "d5812034",
   "metadata": {},
   "source": [
    "## Scenario \n",
    "\n",
    "You are a team of extremely successful data scientists at a top motor dealership company. You need to create summary tables and visualizations that your boss will present at the next company shareholder meeting.  She has sent you the following e-mail describing what she needs.\n",
    "\n",
    "***\n",
    "From: importantboss@topmotordealershipcompany.com\n",
    "\n",
    "To: datascienceteam@topmotordealershipcompany.com\n",
    "\n",
    "Subject: Data request for shareholder meeting\n",
    "\n",
    "We are planning to expand our services in states with the highest sales amounts.  For our next shareholder meeting, we need to provide more information about sales performance at the state level and possible reasons why sales are lower in some states.  Please send me information to address the following items for our next shareholder meeting along with your thoughts.\n",
    "\n",
    "1. Sales performance at the state level (top 5 and bottom 5 states)\n",
    "2. For the best performing states, which dealerships are performing well and how are they trending?\n",
    "3. Is sales performance by state associated with the types of products sold (scooter vs. automobile)?\n",
    "\n",
    "Thank you!\n",
    "\n",
    "-Important Boss\n",
    "\n",
    "***"
   ]
  },
  {
   "cell_type": "markdown",
   "id": "7be7bd74",
   "metadata": {},
   "source": [
    "Your team promptly comes up with the following plan."
   ]
  },
  {
   "cell_type": "markdown",
   "id": "dc7c66cd",
   "metadata": {},
   "source": [
    "## Part 1: Visualizing the top and bottom performing states\n",
    "\n",
    "1. Write a SELECT query that returns the total sales amount for each state from January 1, 2017 to now.  The table should have two columns, `state` and `total_sales_amount`, with one row for each state ordered by `total_sales_amount` in *descending* order. Make sure that `total_sales_amount` is rounded appropriately.\n",
    "\n",
    "\n",
    "2. Use SQLAlchemy to execute the query and store the results in a pandas dataframe called `sales_by_state`.\n",
    "\n",
    "\n",
    "3. Display the rows in `sales_by_state` corresponding to the 5 states with the **largest** total sales amount in *descending* order.\n",
    "\n",
    "\n",
    "4. Display the rows in `sales_by_state` corresponding to the 5 states with the **smallest** total sales amount in *ascending* order.\n",
    "\n",
    "\n",
    "5. Visualize sales performance by state for the top and bottom performing states discovered in 1.3 and 1.4.  You can use more than one visualization.  These should be **presentation ready** (e.g. appropriate and complete titles and axis labels, remove unnecessary/distracting features, display date range for total sales, no overlapping axis labels, etc.). \n",
    "\n",
    "Include the code needed for each component of part 1 in the appropriate code block below."
   ]
  },
  {
   "cell_type": "code",
   "execution_count": 2,
   "id": "cbdf969b",
   "metadata": {},
   "outputs": [],
   "source": [
    "#1.1 select query\n",
    "query_1 = \"\"\"select state, sum(sales_amount) as total_sales_amount\n",
    "            from sales as s \n",
    "            inner join customers as c\n",
    "            on s.customer_id = c.customer_id\n",
    "            where EXTRACT(year FROM sales_transaction_date) > 2016\n",
    "            group by state\n",
    "            order by total_sales_amount desc\"\"\" "
   ]
  },
  {
   "cell_type": "code",
   "execution_count": 3,
   "id": "b132c3e7",
   "metadata": {},
   "outputs": [
    {
     "data": {
      "text/html": [
       "<div>\n",
       "<style scoped>\n",
       "    .dataframe tbody tr th:only-of-type {\n",
       "        vertical-align: middle;\n",
       "    }\n",
       "\n",
       "    .dataframe tbody tr th {\n",
       "        vertical-align: top;\n",
       "    }\n",
       "\n",
       "    .dataframe thead th {\n",
       "        text-align: right;\n",
       "    }\n",
       "</style>\n",
       "<table border=\"1\" class=\"dataframe\">\n",
       "  <thead>\n",
       "    <tr style=\"text-align: right;\">\n",
       "      <th></th>\n",
       "      <th>state</th>\n",
       "      <th>total_sales_amount</th>\n",
       "    </tr>\n",
       "  </thead>\n",
       "  <tbody>\n",
       "    <tr>\n",
       "      <th>0</th>\n",
       "      <td>None</td>\n",
       "      <td>15978788.9</td>\n",
       "    </tr>\n",
       "    <tr>\n",
       "      <th>1</th>\n",
       "      <td>CA</td>\n",
       "      <td>15857816.0</td>\n",
       "    </tr>\n",
       "    <tr>\n",
       "      <th>2</th>\n",
       "      <td>TX</td>\n",
       "      <td>15425788.0</td>\n",
       "    </tr>\n",
       "    <tr>\n",
       "      <th>3</th>\n",
       "      <td>FL</td>\n",
       "      <td>10410607.3</td>\n",
       "    </tr>\n",
       "    <tr>\n",
       "      <th>4</th>\n",
       "      <td>NY</td>\n",
       "      <td>9523439.4</td>\n",
       "    </tr>\n",
       "    <tr>\n",
       "      <th>5</th>\n",
       "      <td>PA</td>\n",
       "      <td>5031834.8</td>\n",
       "    </tr>\n",
       "    <tr>\n",
       "      <th>6</th>\n",
       "      <td>DC</td>\n",
       "      <td>4747799.9</td>\n",
       "    </tr>\n",
       "    <tr>\n",
       "      <th>7</th>\n",
       "      <td>VA</td>\n",
       "      <td>4407464.0</td>\n",
       "    </tr>\n",
       "    <tr>\n",
       "      <th>8</th>\n",
       "      <td>OH</td>\n",
       "      <td>4198514.1</td>\n",
       "    </tr>\n",
       "    <tr>\n",
       "      <th>9</th>\n",
       "      <td>GA</td>\n",
       "      <td>4113195.3</td>\n",
       "    </tr>\n",
       "    <tr>\n",
       "      <th>10</th>\n",
       "      <td>MO</td>\n",
       "      <td>4002391.0</td>\n",
       "    </tr>\n",
       "    <tr>\n",
       "      <th>11</th>\n",
       "      <td>IL</td>\n",
       "      <td>3585130.8</td>\n",
       "    </tr>\n",
       "    <tr>\n",
       "      <th>12</th>\n",
       "      <td>NC</td>\n",
       "      <td>3575996.0</td>\n",
       "    </tr>\n",
       "    <tr>\n",
       "      <th>13</th>\n",
       "      <td>MN</td>\n",
       "      <td>3455946.4</td>\n",
       "    </tr>\n",
       "    <tr>\n",
       "      <th>14</th>\n",
       "      <td>IN</td>\n",
       "      <td>3294076.7</td>\n",
       "    </tr>\n",
       "    <tr>\n",
       "      <th>15</th>\n",
       "      <td>AL</td>\n",
       "      <td>3197966.5</td>\n",
       "    </tr>\n",
       "    <tr>\n",
       "      <th>16</th>\n",
       "      <td>WA</td>\n",
       "      <td>3072641.4</td>\n",
       "    </tr>\n",
       "    <tr>\n",
       "      <th>17</th>\n",
       "      <td>MI</td>\n",
       "      <td>3052826.7</td>\n",
       "    </tr>\n",
       "    <tr>\n",
       "      <th>18</th>\n",
       "      <td>TN</td>\n",
       "      <td>3011376.6</td>\n",
       "    </tr>\n",
       "    <tr>\n",
       "      <th>19</th>\n",
       "      <td>CO</td>\n",
       "      <td>2694911.3</td>\n",
       "    </tr>\n",
       "    <tr>\n",
       "      <th>20</th>\n",
       "      <td>LA</td>\n",
       "      <td>2558471.7</td>\n",
       "    </tr>\n",
       "    <tr>\n",
       "      <th>21</th>\n",
       "      <td>AZ</td>\n",
       "      <td>2266907.0</td>\n",
       "    </tr>\n",
       "    <tr>\n",
       "      <th>22</th>\n",
       "      <td>KY</td>\n",
       "      <td>2148697.8</td>\n",
       "    </tr>\n",
       "    <tr>\n",
       "      <th>23</th>\n",
       "      <td>MA</td>\n",
       "      <td>2133992.8</td>\n",
       "    </tr>\n",
       "    <tr>\n",
       "      <th>24</th>\n",
       "      <td>WV</td>\n",
       "      <td>2133073.3</td>\n",
       "    </tr>\n",
       "    <tr>\n",
       "      <th>25</th>\n",
       "      <td>OK</td>\n",
       "      <td>2095892.4</td>\n",
       "    </tr>\n",
       "    <tr>\n",
       "      <th>26</th>\n",
       "      <td>KS</td>\n",
       "      <td>2081442.6</td>\n",
       "    </tr>\n",
       "    <tr>\n",
       "      <th>27</th>\n",
       "      <td>WI</td>\n",
       "      <td>2063418.3</td>\n",
       "    </tr>\n",
       "    <tr>\n",
       "      <th>28</th>\n",
       "      <td>CT</td>\n",
       "      <td>1931432.9</td>\n",
       "    </tr>\n",
       "    <tr>\n",
       "      <th>29</th>\n",
       "      <td>NV</td>\n",
       "      <td>1875462.6</td>\n",
       "    </tr>\n",
       "    <tr>\n",
       "      <th>30</th>\n",
       "      <td>MD</td>\n",
       "      <td>1711213.0</td>\n",
       "    </tr>\n",
       "    <tr>\n",
       "      <th>31</th>\n",
       "      <td>SC</td>\n",
       "      <td>1461923.3</td>\n",
       "    </tr>\n",
       "    <tr>\n",
       "      <th>32</th>\n",
       "      <td>UT</td>\n",
       "      <td>1234198.4</td>\n",
       "    </tr>\n",
       "    <tr>\n",
       "      <th>33</th>\n",
       "      <td>AR</td>\n",
       "      <td>997384.2</td>\n",
       "    </tr>\n",
       "    <tr>\n",
       "      <th>34</th>\n",
       "      <td>OR</td>\n",
       "      <td>961368.6</td>\n",
       "    </tr>\n",
       "    <tr>\n",
       "      <th>35</th>\n",
       "      <td>ID</td>\n",
       "      <td>868799.1</td>\n",
       "    </tr>\n",
       "    <tr>\n",
       "      <th>36</th>\n",
       "      <td>MS</td>\n",
       "      <td>835088.8</td>\n",
       "    </tr>\n",
       "    <tr>\n",
       "      <th>37</th>\n",
       "      <td>NE</td>\n",
       "      <td>833143.3</td>\n",
       "    </tr>\n",
       "    <tr>\n",
       "      <th>38</th>\n",
       "      <td>IA</td>\n",
       "      <td>753738.4</td>\n",
       "    </tr>\n",
       "    <tr>\n",
       "      <th>39</th>\n",
       "      <td>AK</td>\n",
       "      <td>670069.3</td>\n",
       "    </tr>\n",
       "    <tr>\n",
       "      <th>40</th>\n",
       "      <td>NJ</td>\n",
       "      <td>646548.4</td>\n",
       "    </tr>\n",
       "    <tr>\n",
       "      <th>41</th>\n",
       "      <td>HI</td>\n",
       "      <td>641439.3</td>\n",
       "    </tr>\n",
       "    <tr>\n",
       "      <th>42</th>\n",
       "      <td>DE</td>\n",
       "      <td>578364.6</td>\n",
       "    </tr>\n",
       "    <tr>\n",
       "      <th>43</th>\n",
       "      <td>NM</td>\n",
       "      <td>560044.1</td>\n",
       "    </tr>\n",
       "    <tr>\n",
       "      <th>44</th>\n",
       "      <td>ND</td>\n",
       "      <td>415769.7</td>\n",
       "    </tr>\n",
       "    <tr>\n",
       "      <th>45</th>\n",
       "      <td>NH</td>\n",
       "      <td>371714.7</td>\n",
       "    </tr>\n",
       "    <tr>\n",
       "      <th>46</th>\n",
       "      <td>MT</td>\n",
       "      <td>163149.5</td>\n",
       "    </tr>\n",
       "    <tr>\n",
       "      <th>47</th>\n",
       "      <td>ME</td>\n",
       "      <td>36364.9</td>\n",
       "    </tr>\n",
       "    <tr>\n",
       "      <th>48</th>\n",
       "      <td>VT</td>\n",
       "      <td>30015.0</td>\n",
       "    </tr>\n",
       "    <tr>\n",
       "      <th>49</th>\n",
       "      <td>SD</td>\n",
       "      <td>24179.6</td>\n",
       "    </tr>\n",
       "    <tr>\n",
       "      <th>50</th>\n",
       "      <td>RI</td>\n",
       "      <td>6099.9</td>\n",
       "    </tr>\n",
       "    <tr>\n",
       "      <th>51</th>\n",
       "      <td>WY</td>\n",
       "      <td>3249.9</td>\n",
       "    </tr>\n",
       "  </tbody>\n",
       "</table>\n",
       "</div>"
      ],
      "text/plain": [
       "   state  total_sales_amount\n",
       "0   None          15978788.9\n",
       "1     CA          15857816.0\n",
       "2     TX          15425788.0\n",
       "3     FL          10410607.3\n",
       "4     NY           9523439.4\n",
       "5     PA           5031834.8\n",
       "6     DC           4747799.9\n",
       "7     VA           4407464.0\n",
       "8     OH           4198514.1\n",
       "9     GA           4113195.3\n",
       "10    MO           4002391.0\n",
       "11    IL           3585130.8\n",
       "12    NC           3575996.0\n",
       "13    MN           3455946.4\n",
       "14    IN           3294076.7\n",
       "15    AL           3197966.5\n",
       "16    WA           3072641.4\n",
       "17    MI           3052826.7\n",
       "18    TN           3011376.6\n",
       "19    CO           2694911.3\n",
       "20    LA           2558471.7\n",
       "21    AZ           2266907.0\n",
       "22    KY           2148697.8\n",
       "23    MA           2133992.8\n",
       "24    WV           2133073.3\n",
       "25    OK           2095892.4\n",
       "26    KS           2081442.6\n",
       "27    WI           2063418.3\n",
       "28    CT           1931432.9\n",
       "29    NV           1875462.6\n",
       "30    MD           1711213.0\n",
       "31    SC           1461923.3\n",
       "32    UT           1234198.4\n",
       "33    AR            997384.2\n",
       "34    OR            961368.6\n",
       "35    ID            868799.1\n",
       "36    MS            835088.8\n",
       "37    NE            833143.3\n",
       "38    IA            753738.4\n",
       "39    AK            670069.3\n",
       "40    NJ            646548.4\n",
       "41    HI            641439.3\n",
       "42    DE            578364.6\n",
       "43    NM            560044.1\n",
       "44    ND            415769.7\n",
       "45    NH            371714.7\n",
       "46    MT            163149.5\n",
       "47    ME             36364.9\n",
       "48    VT             30015.0\n",
       "49    SD             24179.6\n",
       "50    RI              6099.9\n",
       "51    WY              3249.9"
      ]
     },
     "execution_count": 3,
     "metadata": {},
     "output_type": "execute_result"
    }
   ],
   "source": [
    "#1.2 create dataframe\n",
    "sales_by_state = pd.read_sql_query(query_1, engine)\n",
    "sales_by_state = sales_by_state.round(1)\n",
    "sales_by_state"
   ]
  },
  {
   "cell_type": "code",
   "execution_count": 4,
   "id": "213c083f",
   "metadata": {},
   "outputs": [
    {
     "name": "stderr",
     "output_type": "stream",
     "text": [
      "/usr/local/lib/python3.7/site-packages/ipykernel_launcher.py:3: SettingWithCopyWarning: \n",
      "A value is trying to be set on a copy of a slice from a DataFrame.\n",
      "Try using .loc[row_indexer,col_indexer] = value instead\n",
      "\n",
      "See the caveats in the documentation: https://pandas.pydata.org/pandas-docs/stable/user_guide/indexing.html#returning-a-view-versus-a-copy\n",
      "  This is separate from the ipykernel package so we can avoid doing imports until\n"
     ]
    },
    {
     "data": {
      "text/html": [
       "<div>\n",
       "<style scoped>\n",
       "    .dataframe tbody tr th:only-of-type {\n",
       "        vertical-align: middle;\n",
       "    }\n",
       "\n",
       "    .dataframe tbody tr th {\n",
       "        vertical-align: top;\n",
       "    }\n",
       "\n",
       "    .dataframe thead th {\n",
       "        text-align: right;\n",
       "    }\n",
       "</style>\n",
       "<table border=\"1\" class=\"dataframe\">\n",
       "  <thead>\n",
       "    <tr style=\"text-align: right;\">\n",
       "      <th></th>\n",
       "      <th>state</th>\n",
       "      <th>total_sales_amount</th>\n",
       "      <th>category</th>\n",
       "    </tr>\n",
       "  </thead>\n",
       "  <tbody>\n",
       "    <tr>\n",
       "      <th>1</th>\n",
       "      <td>CA</td>\n",
       "      <td>15857816.0</td>\n",
       "      <td>Top</td>\n",
       "    </tr>\n",
       "    <tr>\n",
       "      <th>2</th>\n",
       "      <td>TX</td>\n",
       "      <td>15425788.0</td>\n",
       "      <td>Top</td>\n",
       "    </tr>\n",
       "    <tr>\n",
       "      <th>3</th>\n",
       "      <td>FL</td>\n",
       "      <td>10410607.3</td>\n",
       "      <td>Top</td>\n",
       "    </tr>\n",
       "    <tr>\n",
       "      <th>4</th>\n",
       "      <td>NY</td>\n",
       "      <td>9523439.4</td>\n",
       "      <td>Top</td>\n",
       "    </tr>\n",
       "    <tr>\n",
       "      <th>5</th>\n",
       "      <td>PA</td>\n",
       "      <td>5031834.8</td>\n",
       "      <td>Top</td>\n",
       "    </tr>\n",
       "  </tbody>\n",
       "</table>\n",
       "</div>"
      ],
      "text/plain": [
       "  state  total_sales_amount category\n",
       "1    CA          15857816.0      Top\n",
       "2    TX          15425788.0      Top\n",
       "3    FL          10410607.3      Top\n",
       "4    NY           9523439.4      Top\n",
       "5    PA           5031834.8      Top"
      ]
     },
     "execution_count": 4,
     "metadata": {},
     "output_type": "execute_result"
    }
   ],
   "source": [
    "#1.3 display top 5 performing states\n",
    "top = sales_by_state[1:6]\n",
    "top['category'] = ['Top']*5\n",
    "top"
   ]
  },
  {
   "cell_type": "code",
   "execution_count": 5,
   "id": "efc95513",
   "metadata": {},
   "outputs": [
    {
     "data": {
      "text/html": [
       "<div>\n",
       "<style scoped>\n",
       "    .dataframe tbody tr th:only-of-type {\n",
       "        vertical-align: middle;\n",
       "    }\n",
       "\n",
       "    .dataframe tbody tr th {\n",
       "        vertical-align: top;\n",
       "    }\n",
       "\n",
       "    .dataframe thead th {\n",
       "        text-align: right;\n",
       "    }\n",
       "</style>\n",
       "<table border=\"1\" class=\"dataframe\">\n",
       "  <thead>\n",
       "    <tr style=\"text-align: right;\">\n",
       "      <th></th>\n",
       "      <th>state</th>\n",
       "      <th>total_sales_amount</th>\n",
       "      <th>category</th>\n",
       "    </tr>\n",
       "  </thead>\n",
       "  <tbody>\n",
       "    <tr>\n",
       "      <th>51</th>\n",
       "      <td>WY</td>\n",
       "      <td>3249.9</td>\n",
       "      <td>Bottom</td>\n",
       "    </tr>\n",
       "    <tr>\n",
       "      <th>50</th>\n",
       "      <td>RI</td>\n",
       "      <td>6099.9</td>\n",
       "      <td>Bottom</td>\n",
       "    </tr>\n",
       "    <tr>\n",
       "      <th>49</th>\n",
       "      <td>SD</td>\n",
       "      <td>24179.6</td>\n",
       "      <td>Bottom</td>\n",
       "    </tr>\n",
       "    <tr>\n",
       "      <th>48</th>\n",
       "      <td>VT</td>\n",
       "      <td>30015.0</td>\n",
       "      <td>Bottom</td>\n",
       "    </tr>\n",
       "    <tr>\n",
       "      <th>47</th>\n",
       "      <td>ME</td>\n",
       "      <td>36364.9</td>\n",
       "      <td>Bottom</td>\n",
       "    </tr>\n",
       "  </tbody>\n",
       "</table>\n",
       "</div>"
      ],
      "text/plain": [
       "   state  total_sales_amount category\n",
       "51    WY              3249.9   Bottom\n",
       "50    RI              6099.9   Bottom\n",
       "49    SD             24179.6   Bottom\n",
       "48    VT             30015.0   Bottom\n",
       "47    ME             36364.9   Bottom"
      ]
     },
     "execution_count": 5,
     "metadata": {},
     "output_type": "execute_result"
    }
   ],
   "source": [
    "#1.4 display bottom 5 performing states\n",
    "bottom = sales_by_state.sort_values(by=['total_sales_amount'])[0:5]\n",
    "bottom['category'] = ['Bottom']*5\n",
    "bottom"
   ]
  },
  {
   "cell_type": "code",
   "execution_count": 6,
   "id": "af62f08d",
   "metadata": {},
   "outputs": [
    {
     "data": {
      "text/html": [
       "<div>\n",
       "<style scoped>\n",
       "    .dataframe tbody tr th:only-of-type {\n",
       "        vertical-align: middle;\n",
       "    }\n",
       "\n",
       "    .dataframe tbody tr th {\n",
       "        vertical-align: top;\n",
       "    }\n",
       "\n",
       "    .dataframe thead th {\n",
       "        text-align: right;\n",
       "    }\n",
       "</style>\n",
       "<table border=\"1\" class=\"dataframe\">\n",
       "  <thead>\n",
       "    <tr style=\"text-align: right;\">\n",
       "      <th></th>\n",
       "      <th>state</th>\n",
       "      <th>total_sales_amount</th>\n",
       "      <th>category</th>\n",
       "    </tr>\n",
       "  </thead>\n",
       "  <tbody>\n",
       "    <tr>\n",
       "      <th>1</th>\n",
       "      <td>CA</td>\n",
       "      <td>15857816.0</td>\n",
       "      <td>Top</td>\n",
       "    </tr>\n",
       "    <tr>\n",
       "      <th>2</th>\n",
       "      <td>TX</td>\n",
       "      <td>15425788.0</td>\n",
       "      <td>Top</td>\n",
       "    </tr>\n",
       "    <tr>\n",
       "      <th>3</th>\n",
       "      <td>FL</td>\n",
       "      <td>10410607.3</td>\n",
       "      <td>Top</td>\n",
       "    </tr>\n",
       "    <tr>\n",
       "      <th>4</th>\n",
       "      <td>NY</td>\n",
       "      <td>9523439.4</td>\n",
       "      <td>Top</td>\n",
       "    </tr>\n",
       "    <tr>\n",
       "      <th>5</th>\n",
       "      <td>PA</td>\n",
       "      <td>5031834.8</td>\n",
       "      <td>Top</td>\n",
       "    </tr>\n",
       "    <tr>\n",
       "      <th>51</th>\n",
       "      <td>WY</td>\n",
       "      <td>3249.9</td>\n",
       "      <td>Bottom</td>\n",
       "    </tr>\n",
       "    <tr>\n",
       "      <th>50</th>\n",
       "      <td>RI</td>\n",
       "      <td>6099.9</td>\n",
       "      <td>Bottom</td>\n",
       "    </tr>\n",
       "    <tr>\n",
       "      <th>49</th>\n",
       "      <td>SD</td>\n",
       "      <td>24179.6</td>\n",
       "      <td>Bottom</td>\n",
       "    </tr>\n",
       "    <tr>\n",
       "      <th>48</th>\n",
       "      <td>VT</td>\n",
       "      <td>30015.0</td>\n",
       "      <td>Bottom</td>\n",
       "    </tr>\n",
       "    <tr>\n",
       "      <th>47</th>\n",
       "      <td>ME</td>\n",
       "      <td>36364.9</td>\n",
       "      <td>Bottom</td>\n",
       "    </tr>\n",
       "  </tbody>\n",
       "</table>\n",
       "</div>"
      ],
      "text/plain": [
       "   state  total_sales_amount category\n",
       "1     CA          15857816.0      Top\n",
       "2     TX          15425788.0      Top\n",
       "3     FL          10410607.3      Top\n",
       "4     NY           9523439.4      Top\n",
       "5     PA           5031834.8      Top\n",
       "51    WY              3249.9   Bottom\n",
       "50    RI              6099.9   Bottom\n",
       "49    SD             24179.6   Bottom\n",
       "48    VT             30015.0   Bottom\n",
       "47    ME             36364.9   Bottom"
      ]
     },
     "execution_count": 6,
     "metadata": {},
     "output_type": "execute_result"
    }
   ],
   "source": [
    "all_state = top.append(bottom)\n",
    "all_state"
   ]
  },
  {
   "cell_type": "code",
   "execution_count": 8,
   "id": "cad88d0f",
   "metadata": {},
   "outputs": [
    {
     "data": {
      "text/plain": [
       "<Figure size 640x480 with 0 Axes>"
      ]
     },
     "execution_count": 8,
     "metadata": {},
     "output_type": "execute_result"
    },
    {
     "name": "stderr",
     "output_type": "stream",
     "text": [
      "/usr/local/lib/python3.7/site-packages/seaborn/axisgrid.py:38: UserWarning: FixedFormatter should only be used together with FixedLocator\n",
      "  ax.set(**kwargs)\n"
     ]
    },
    {
     "data": {
      "text/plain": [
       "<seaborn.axisgrid.FacetGrid at 0x7f052eacb128>"
      ]
     },
     "execution_count": 8,
     "metadata": {},
     "output_type": "execute_result"
    },
    {
     "data": {
      "text/plain": [
       "<Figure size 640x480 with 0 Axes>"
      ]
     },
     "metadata": {},
     "output_type": "display_data"
    },
    {
     "data": {
      "image/png": "[encoded data removed]",
      "text/plain": [
       "<Figure size 500x500 with 1 Axes>"
      ]
     },
     "metadata": {},
     "output_type": "display_data"
    }
   ],
   "source": [
    "plt.figure()\n",
    "g = sns.catplot(x ='state', y ='total_sales_amount', data = all_state, kind = 'bar')\n",
    "g.set(yticklabels=[1000, 3000, 6000, 20000, 30000, 5000000, 10000000, 16000000])"
   ]
  },
  {
   "cell_type": "code",
   "execution_count": 13,
   "id": "c24b3233",
   "metadata": {},
   "outputs": [
    {
     "data": {
      "text/plain": [
       "<Figure size 640x480 with 0 Axes>"
      ]
     },
     "execution_count": 13,
     "metadata": {},
     "output_type": "execute_result"
    },
    {
     "data": {
      "text/plain": [
       "<AxesSubplot:>"
      ]
     },
     "execution_count": 13,
     "metadata": {},
     "output_type": "execute_result"
    },
    {
     "data": {
      "text/plain": [
       "Text(0.5, 1.0, 'Top 5 States')"
      ]
     },
     "execution_count": 13,
     "metadata": {},
     "output_type": "execute_result"
    },
    {
     "data": {
      "text/plain": [
       "Text(0.5, 0, 'State')"
      ]
     },
     "execution_count": 13,
     "metadata": {},
     "output_type": "execute_result"
    },
    {
     "data": {
      "text/plain": [
       "Text(0, 0.5, 'Total Sales Amount (10 Million)')"
      ]
     },
     "execution_count": 13,
     "metadata": {},
     "output_type": "execute_result"
    },
    {
     "data": {
      "text/plain": [
       "<BarContainer object of 5 artists>"
      ]
     },
     "execution_count": 13,
     "metadata": {},
     "output_type": "execute_result"
    },
    {
     "data": {
      "text/plain": [
       "<AxesSubplot:>"
      ]
     },
     "execution_count": 13,
     "metadata": {},
     "output_type": "execute_result"
    },
    {
     "data": {
      "text/plain": [
       "Text(0.5, 1.0, 'Bottom 5 States')"
      ]
     },
     "execution_count": 13,
     "metadata": {},
     "output_type": "execute_result"
    },
    {
     "data": {
      "text/plain": [
       "Text(0.5, 0, 'State')"
      ]
     },
     "execution_count": 13,
     "metadata": {},
     "output_type": "execute_result"
    },
    {
     "data": {
      "text/plain": [
       "Text(0, 0.5, 'Total Sales Amount')"
      ]
     },
     "execution_count": 13,
     "metadata": {},
     "output_type": "execute_result"
    },
    {
     "data": {
      "text/plain": [
       "<BarContainer object of 5 artists>"
      ]
     },
     "execution_count": 13,
     "metadata": {},
     "output_type": "execute_result"
    },
    {
     "data": {
      "image/png": "[encoded data removed]",
      "text/plain": [
       "<Figure size 640x480 with 2 Axes>"
      ]
     },
     "metadata": {},
     "output_type": "display_data"
    }
   ],
   "source": [
    "# 1.5 visualize top and bottom performing states\n",
    "# Visualize sales performance by state for the top and bottom performing states discovered in 1.3 and 1.4. \n",
    "# You can use more than one visualization. These should be presentation ready \n",
    "# (e.g. appropriate and complete titles and axis labels, remove unnecessary/distracting features, \n",
    "# display date range for total sales, no overlapping axis labels, etc.).\n",
    "# 2017-01-01 ~ 2019-05-31\n",
    "\n",
    "# x_axis = np.arange(list(top['total_sales_amount'])\n",
    "\n",
    "\n",
    "x1 = list(top['state'])\n",
    "y1 = list(top['total_sales_amount'])\n",
    "x2 = list(bottom['state'])\n",
    "y2 = list(bottom['total_sales_amount'])\n",
    "\n",
    "plt.figure()\n",
    "plt.subplot(1, 2, 1)\n",
    "plt.title('Top 5 States')\n",
    "plt.xlabel('State')\n",
    "plt.ylabel('Total Sales Amount (10 Million)')\n",
    "plt.bar(list(top['state']), list(top['total_sales_amount']))\n",
    "#plt.set(yticklabels=[3000, 6000, 20000, 30000, 5000000, 10000000, 16000000])\n",
    "\n",
    "\n",
    "plt.subplot(1, 2, 2)\n",
    "plt.title('Bottom 5 States')\n",
    "plt.xlabel('State')\n",
    "plt.ylabel('Total Sales Amount')\n",
    "plt.bar(list(bottom['state']), list(bottom['total_sales_amount']))\n",
    "\n",
    "\n",
    "plt.tight_layout()\n",
    "plt.show()"
   ]
  },
  {
   "cell_type": "markdown",
   "id": "37523447",
   "metadata": {},
   "source": [
    "## Part 2: Top performing dealerships\n",
    "\n",
    "Create a table and visualization of historical cumulative sales amounts by dealership from January 1, 2017 to now.  Only include dealerships located in the *top two* states determined in Part 1.  To do this, perform the following steps:\n",
    "    \n",
    "   1. Write a SELECT query that returns three columns: `dealership_id`,`sales_transaction_date`, and `cumulative_sales`.  `cumulative_sales` represents the cumulative sales amount from January 1, 2017 to the `sales_transaction_date` for dealership identified by `dealership_id`.  There should be a row for each distinct combination of `dealership_id` and `sales_transaction_date` in the `sales` table (*hint*: window function).\n",
    "    \n",
    "    \n",
    "   2. Use SQLAlchemy to execute the query and store the results in a pandas dataframe called `cumulative_sales_bydealership`.\n",
    "    \n",
    "    \n",
    "   3. Appropriately visualize historical cumulative sales by dealership across sales transaction dates *in a single plot* (*hint*: seaborn). Visualization should be **presentation ready** (e.g. appropriate and complete titles and legend/axis labels, remove unnecessary/distracting features, display date range for total sales, no overlapping axis labels, integer-valued dealership IDs, states indicated clearly, etc.). "
   ]
  },
  {
   "cell_type": "code",
   "execution_count": 3,
   "id": "7dd9b1fd",
   "metadata": {},
   "outputs": [],
   "source": [
    "#2.1 select query\n",
    "query_2 = \"\"\"\n",
    "SELECT s.dealership_id, sales_transaction_date, sum(sales_amount) OVER (PARTITION BY s.dealership_id ORDER BY s.sales_transaction_date) as cumulative_sales, d.state\n",
    "FROM sales as s\n",
    "INNER JOIN dealerships as d\n",
    "ON s.dealership_id = d.dealership_id\n",
    "WHERE s.sales_transaction_date > '2016-12-31'\n",
    "AND d.state = 'CA' OR d.state = 'TX'\n",
    "AND s.dealership_id IS NOT NULL \n",
    "AND s.sales_transaction_date IS NOT NULL;\n",
    "\"\"\""
   ]
  },
  {
   "cell_type": "code",
   "execution_count": 4,
   "id": "f3f50db1",
   "metadata": {},
   "outputs": [
    {
     "data": {
      "text/html": [
       "<div>\n",
       "<style scoped>\n",
       "    .dataframe tbody tr th:only-of-type {\n",
       "        vertical-align: middle;\n",
       "    }\n",
       "\n",
       "    .dataframe tbody tr th {\n",
       "        vertical-align: top;\n",
       "    }\n",
       "\n",
       "    .dataframe thead th {\n",
       "        text-align: right;\n",
       "    }\n",
       "</style>\n",
       "<table border=\"1\" class=\"dataframe\">\n",
       "  <thead>\n",
       "    <tr style=\"text-align: right;\">\n",
       "      <th></th>\n",
       "      <th>dealership_id</th>\n",
       "      <th>sales_transaction_date</th>\n",
       "      <th>cumulative_sales</th>\n",
       "      <th>state</th>\n",
       "    </tr>\n",
       "  </thead>\n",
       "  <tbody>\n",
       "    <tr>\n",
       "      <th>0</th>\n",
       "      <td>2.0</td>\n",
       "      <td>2017-01-02 17:02:32</td>\n",
       "      <td>399.992</td>\n",
       "      <td>CA</td>\n",
       "    </tr>\n",
       "    <tr>\n",
       "      <th>1</th>\n",
       "      <td>2.0</td>\n",
       "      <td>2017-01-06 01:37:05</td>\n",
       "      <td>799.984</td>\n",
       "      <td>CA</td>\n",
       "    </tr>\n",
       "    <tr>\n",
       "      <th>2</th>\n",
       "      <td>2.0</td>\n",
       "      <td>2017-01-10 14:32:16</td>\n",
       "      <td>1199.976</td>\n",
       "      <td>CA</td>\n",
       "    </tr>\n",
       "    <tr>\n",
       "      <th>3</th>\n",
       "      <td>2.0</td>\n",
       "      <td>2017-01-10 15:55:24</td>\n",
       "      <td>1799.966</td>\n",
       "      <td>CA</td>\n",
       "    </tr>\n",
       "    <tr>\n",
       "      <th>4</th>\n",
       "      <td>2.0</td>\n",
       "      <td>2017-01-18 04:57:53</td>\n",
       "      <td>2399.956</td>\n",
       "      <td>CA</td>\n",
       "    </tr>\n",
       "    <tr>\n",
       "      <th>...</th>\n",
       "      <td>...</td>\n",
       "      <td>...</td>\n",
       "      <td>...</td>\n",
       "      <td>...</td>\n",
       "    </tr>\n",
       "    <tr>\n",
       "      <th>3773</th>\n",
       "      <td>19.0</td>\n",
       "      <td>2019-05-25 08:43:16</td>\n",
       "      <td>7408163.014</td>\n",
       "      <td>TX</td>\n",
       "    </tr>\n",
       "    <tr>\n",
       "      <th>3774</th>\n",
       "      <td>19.0</td>\n",
       "      <td>2019-05-25 18:51:16</td>\n",
       "      <td>7408513.004</td>\n",
       "      <td>TX</td>\n",
       "    </tr>\n",
       "    <tr>\n",
       "      <th>3775</th>\n",
       "      <td>19.0</td>\n",
       "      <td>2019-05-28 10:11:00</td>\n",
       "      <td>7409212.994</td>\n",
       "      <td>TX</td>\n",
       "    </tr>\n",
       "    <tr>\n",
       "      <th>3776</th>\n",
       "      <td>19.0</td>\n",
       "      <td>2019-05-30 23:25:58</td>\n",
       "      <td>7409562.984</td>\n",
       "      <td>TX</td>\n",
       "    </tr>\n",
       "    <tr>\n",
       "      <th>3777</th>\n",
       "      <td>19.0</td>\n",
       "      <td>2019-05-31 03:40:05</td>\n",
       "      <td>7409877.975</td>\n",
       "      <td>TX</td>\n",
       "    </tr>\n",
       "  </tbody>\n",
       "</table>\n",
       "<p>3778 rows × 4 columns</p>\n",
       "</div>"
      ],
      "text/plain": [
       "      dealership_id sales_transaction_date  cumulative_sales state\n",
       "0               2.0    2017-01-02 17:02:32           399.992    CA\n",
       "1               2.0    2017-01-06 01:37:05           799.984    CA\n",
       "2               2.0    2017-01-10 14:32:16          1199.976    CA\n",
       "3               2.0    2017-01-10 15:55:24          1799.966    CA\n",
       "4               2.0    2017-01-18 04:57:53          2399.956    CA\n",
       "...             ...                    ...               ...   ...\n",
       "3773           19.0    2019-05-25 08:43:16       7408163.014    TX\n",
       "3774           19.0    2019-05-25 18:51:16       7408513.004    TX\n",
       "3775           19.0    2019-05-28 10:11:00       7409212.994    TX\n",
       "3776           19.0    2019-05-30 23:25:58       7409562.984    TX\n",
       "3777           19.0    2019-05-31 03:40:05       7409877.975    TX\n",
       "\n",
       "[3778 rows x 4 columns]"
      ]
     },
     "execution_count": 4,
     "metadata": {},
     "output_type": "execute_result"
    }
   ],
   "source": [
    "#2.2 create dataframe\n",
    "cumulative_sales_by_dealership = pd.read_sql_query(query_2, engine)\n",
    "cumulative_sales_by_dealership"
   ]
  },
  {
   "cell_type": "code",
   "execution_count": 5,
   "id": "42439b85",
   "metadata": {},
   "outputs": [
    {
     "data": {
      "text/plain": [
       "<AxesSubplot:xlabel='sales_transaction_date', ylabel='cumulative_sales'>"
      ]
     },
     "execution_count": 5,
     "metadata": {},
     "output_type": "execute_result"
    },
    {
     "data": {
      "image/png": "[encoded data removed]",
      "text/plain": [
       "<Figure size 640x480 with 1 Axes>"
      ]
     },
     "metadata": {},
     "output_type": "display_data"
    }
   ],
   "source": [
    "#2.3 visualization\n",
    "sns.lineplot(data=cumulative_sales_by_dealership, x=\"sales_transaction_date\", y = \"cumulative_sales\", hue=\"dealership_id\", style=\"state\")"
   ]
  },
  {
   "cell_type": "markdown",
   "id": "1211b9f1",
   "metadata": {},
   "source": [
    "## Part 3: Product mix and sales\n",
    "\n",
    "Create tables and visualizations to compare the proportion of scooter sales with total sales amount by state for sales from January 2017 to now. To do this, perform the following steps:\n",
    "    \n",
    "   1. Write a SELECT query that returns three columns: `state`,`prop_scooters`, and `total_sales`.  `prop_scooters` represents the proportion of scooter sales out of all sales made from January 2017 to now, `total_sales` represents the total sales amount from January 1, 2017 to now.  There should be one row for each state *and no more*.\n",
    "    \n",
    "    \n",
    "   2. Use SQLAlchemy to execute the query and store the results in a pandas dataframe called `prop_scoot`.\n",
    "    \n",
    "    \n",
    "   3. Appropriately visualize the relationship between proportion of scooter sales and total sales *in a single plot*. Visualization should be **presentation ready** (e.g. appropriate and complete titles and legend/axis labels, remove unnecessary/distracting features, display date range for total sales, no overlapping axis labels, etc.). "
   ]
  },
  {
   "cell_type": "code",
   "execution_count": 2,
   "id": "bd0c4ed4",
   "metadata": {},
   "outputs": [],
   "source": [
    "#3.1 select query\n",
    "query_3 = \"\"\"select tb1.state, (cast(tb1.scooter_count as float)/cast(tb2.total_count as float)) as prop_scooters, tb2.total_sales\n",
    "from (select state, count(sales_amount) as scooter_count, sum(sales_amount) as scooter_sales\n",
    "from sales as s join dealerships as d\n",
    "on s.dealership_id = d.dealership_id\n",
    "join products as p\n",
    "on s.product_id = p.product_id\n",
    "where p.product_type = 'scooter'\n",
    "and EXTRACT(year FROM sales_transaction_date) > 2016\n",
    "group by state\n",
    "order by state) as tb1, \n",
    "(select state, count(sales_amount) as total_count, sum(sales_amount) as total_sales from sales as s join dealerships as d\n",
    "on s.dealership_id = d.dealership_id where EXTRACT(year FROM sales_transaction_date) > 2016\n",
    "group by state\n",
    "order by state) as tb2\n",
    "where tb1.state = tb2.state\n",
    "\"\"\""
   ]
  },
  {
   "cell_type": "code",
   "execution_count": 3,
   "id": "9205d892",
   "metadata": {},
   "outputs": [
    {
     "data": {
      "text/html": [
       "<div>\n",
       "<style scoped>\n",
       "    .dataframe tbody tr th:only-of-type {\n",
       "        vertical-align: middle;\n",
       "    }\n",
       "\n",
       "    .dataframe tbody tr th {\n",
       "        vertical-align: top;\n",
       "    }\n",
       "\n",
       "    .dataframe thead th {\n",
       "        text-align: right;\n",
       "    }\n",
       "</style>\n",
       "<table border=\"1\" class=\"dataframe\">\n",
       "  <thead>\n",
       "    <tr style=\"text-align: right;\">\n",
       "      <th></th>\n",
       "      <th>state</th>\n",
       "      <th>prop_scooters</th>\n",
       "      <th>total_sales</th>\n",
       "    </tr>\n",
       "  </thead>\n",
       "  <tbody>\n",
       "    <tr>\n",
       "      <th>0</th>\n",
       "      <td>AZ</td>\n",
       "      <td>0.90</td>\n",
       "      <td>2869986.36</td>\n",
       "    </tr>\n",
       "    <tr>\n",
       "      <th>1</th>\n",
       "      <td>CA</td>\n",
       "      <td>0.90</td>\n",
       "      <td>10969371.89</td>\n",
       "    </tr>\n",
       "    <tr>\n",
       "      <th>2</th>\n",
       "      <td>FL</td>\n",
       "      <td>0.91</td>\n",
       "      <td>6312111.54</td>\n",
       "    </tr>\n",
       "    <tr>\n",
       "      <th>3</th>\n",
       "      <td>GA</td>\n",
       "      <td>0.89</td>\n",
       "      <td>7132552.21</td>\n",
       "    </tr>\n",
       "    <tr>\n",
       "      <th>4</th>\n",
       "      <td>IL</td>\n",
       "      <td>0.89</td>\n",
       "      <td>10420332.79</td>\n",
       "    </tr>\n",
       "    <tr>\n",
       "      <th>5</th>\n",
       "      <td>MA</td>\n",
       "      <td>0.88</td>\n",
       "      <td>1827013.01</td>\n",
       "    </tr>\n",
       "    <tr>\n",
       "      <th>6</th>\n",
       "      <td>MO</td>\n",
       "      <td>0.90</td>\n",
       "      <td>6677086.18</td>\n",
       "    </tr>\n",
       "    <tr>\n",
       "      <th>7</th>\n",
       "      <td>NC</td>\n",
       "      <td>0.90</td>\n",
       "      <td>4714414.09</td>\n",
       "    </tr>\n",
       "    <tr>\n",
       "      <th>8</th>\n",
       "      <td>NJ</td>\n",
       "      <td>0.90</td>\n",
       "      <td>7219211.53</td>\n",
       "    </tr>\n",
       "    <tr>\n",
       "      <th>9</th>\n",
       "      <td>NV</td>\n",
       "      <td>0.90</td>\n",
       "      <td>1993747.51</td>\n",
       "    </tr>\n",
       "    <tr>\n",
       "      <th>10</th>\n",
       "      <td>OR</td>\n",
       "      <td>0.93</td>\n",
       "      <td>966218.35</td>\n",
       "    </tr>\n",
       "    <tr>\n",
       "      <th>11</th>\n",
       "      <td>PA</td>\n",
       "      <td>0.91</td>\n",
       "      <td>2199877.21</td>\n",
       "    </tr>\n",
       "    <tr>\n",
       "      <th>12</th>\n",
       "      <td>TX</td>\n",
       "      <td>0.89</td>\n",
       "      <td>12690936.39</td>\n",
       "    </tr>\n",
       "    <tr>\n",
       "      <th>13</th>\n",
       "      <td>VA</td>\n",
       "      <td>0.90</td>\n",
       "      <td>8065775.62</td>\n",
       "    </tr>\n",
       "    <tr>\n",
       "      <th>14</th>\n",
       "      <td>WA</td>\n",
       "      <td>0.88</td>\n",
       "      <td>3237501.74</td>\n",
       "    </tr>\n",
       "  </tbody>\n",
       "</table>\n",
       "</div>"
      ],
      "text/plain": [
       "   state  prop_scooters  total_sales\n",
       "0     AZ           0.90   2869986.36\n",
       "1     CA           0.90  10969371.89\n",
       "2     FL           0.91   6312111.54\n",
       "3     GA           0.89   7132552.21\n",
       "4     IL           0.89  10420332.79\n",
       "5     MA           0.88   1827013.01\n",
       "6     MO           0.90   6677086.18\n",
       "7     NC           0.90   4714414.09\n",
       "8     NJ           0.90   7219211.53\n",
       "9     NV           0.90   1993747.51\n",
       "10    OR           0.93    966218.35\n",
       "11    PA           0.91   2199877.21\n",
       "12    TX           0.89  12690936.39\n",
       "13    VA           0.90   8065775.62\n",
       "14    WA           0.88   3237501.74"
      ]
     },
     "execution_count": 3,
     "metadata": {},
     "output_type": "execute_result"
    }
   ],
   "source": [
    "#3.2 create data frame\n",
    "prop_scoot = pd.read_sql_query(query_3, engine)\n",
    "prop_scoot = prop_scoot.round(2)\n",
    "prop_scoot"
   ]
  },
  {
   "cell_type": "code",
   "execution_count": 4,
   "id": "b5707d5b",
   "metadata": {},
   "outputs": [
    {
     "data": {
      "text/plain": [
       "[Text(0.5, 0, 'State'), Text(0, 0.5, 'Sales in dollars')]"
      ]
     },
     "execution_count": 4,
     "metadata": {},
     "output_type": "execute_result"
    },
    {
     "data": {
      "text/plain": [
       "<matplotlib.legend.Legend at 0x7f0905080438>"
      ]
     },
     "execution_count": 4,
     "metadata": {},
     "output_type": "execute_result"
    },
    {
     "data": {
      "image/png": "[encoded data removed]",
      "text/plain": [
       "<Figure size 640x480 with 1 Axes>"
      ]
     },
     "metadata": {},
     "output_type": "display_data"
    }
   ],
   "source": [
    "#3.3 visualization\n",
    "import matplotlib.patches as mpatches\n",
    "ax = plt.subplots()\n",
    "\n",
    "ax = sns.barplot(x=prop_scoot[\"state\"], y=prop_scoot[\"total_sales\"], color='r').set(title='Proportion of Scooter Sales')\n",
    "ax = sns.barplot(x=prop_scoot[\"state\"], y=(prop_scoot[\"prop_scooters\"]*prop_scoot[\"total_sales\"]), color='b')\n",
    "\n",
    "ax.set(xlabel=\"State\", ylabel=\"Sales in dollars\")\n",
    "plt.ticklabel_format(style='plain', axis='y')\n",
    "\n",
    "\n",
    "pop_a = mpatches.Patch(color='r', label='Total Sales')\n",
    "pop_b = mpatches.Patch(color='b', label='Scooter Sales')\n",
    "plt.legend(handles=[pop_a,pop_b])\n",
    "\n",
    "plt.show()"
   ]
  },
  {
   "cell_type": "markdown",
   "id": "48cc56a3",
   "metadata": {},
   "source": [
    "\n",
    "## Part 4: Takeaways from the analysis\n",
    "\n",
    "Provide your thoughts about the analysis above by answering the following questions in the blank markdown cells provided below. No code should be run for this section.\n",
    "\n",
    "\n",
    "   1. (Part 1) What are some potential hypotheses as to why the top 5 performing states have the highest sales amounts?  Describe how you would test your hypotheses in further analysis.  Do not conduct any additional analyses or write any more queries, just describe in words.\n",
    "          \n",
    "          \n",
    "   2. (Part 1) What are some potential hypotheses as to why the bottom 5 performing states have the lowest sales amounts?  Describe how you would test your hypotheses in further analysis.  Do not conduct any additional analyses or write any more queries, just describe in words.\n",
    "   \n",
    "   \n",
    "   3. (Part 2): How would you characterize the historical performance of the dealerships visualized in Part 2 (e.g. good, bad, growing, declining, etc.)?  Describe some of the trends in relative performance over time for the dealerships.  Be specific and cite specific elements of the visualization created in Part 2 to support your claims.  Specify any additional factors you would want to consider that would influence your performance assessment. \n",
    "     \n",
    "     \n",
    "   4. (Part 3):  How would you describe the relationship between product mix (i.e. proportion of scooters sold) and total sales?  Be specific and cite specific elements of the visualization created in Part 3 to support your claims.\n",
    "\n",
    "   \n",
    "   5. (Part 3): What are some potential hypotheses as to why product mix and sales are related in the manner described in 4.4?  Describe how you would test your hypotheses in further analysis.  Do not conduct any additional analyses or write any more queries, just describe in words."
   ]
  },
  {
   "cell_type": "markdown",
   "id": "a8bb669d",
   "metadata": {},
   "source": [
    "### Part 4 Responses"
   ]
  },
  {
   "cell_type": "markdown",
   "id": "a045df9d",
   "metadata": {},
   "source": [
    "For each of the following questions, answer in as much preciseness and clarity that you can. Refer back to the tables and plots that you have created to back up your answers if necessary. Answer each question in the cell below. You are NOT to code anything for this section. This is for you to reflect on the analysis developed in response to Parts 1-3."
   ]
  },
  {
   "cell_type": "markdown",
   "id": "3bcef636",
   "metadata": {},
   "source": [
    "1. (Part 1) What are some potential hypotheses as to why the top 5 performing states have the highest sales amounts?  Describe how you would test your hypotheses in further analysis.  Do not conduct any additional analyses or write any more queries, just describe in words."
   ]
  },
  {
   "cell_type": "markdown",
   "id": "1ae59d82",
   "metadata": {},
   "source": [
    "The residents living in top 5 performing states might have higher incomes than other states. Also, the population of the top 5 states might be growing faster than other states. Thus, incomes, population and populatin growth rate for the top 5 performing states might be examined to test the hypotheses in further analysis. \n",
    "\n",
    "\n",
    "\n",
    "\n",
    "\n"
   ]
  },
  {
   "cell_type": "markdown",
   "id": "3b8aa148",
   "metadata": {},
   "source": [
    " 2. (Part 1) What are some potential hypotheses as to why the bottom 5 performing states have the lowest sales amounts?  Describe how you would test your hypotheses in further analysis.  Do not conduct any additional analyses or write any more queries, just describe in words."
   ]
  },
  {
   "cell_type": "markdown",
   "id": "a1de8835",
   "metadata": {},
   "source": [
    "The population of the bottom 5 performing states might be growing slowly comparing to other states. And, there might be less job opportunities in these states. Thus, population, population growth rate, incomes and job openings might be examined to test the hypotheses in further analysis. "
   ]
  },
  {
   "cell_type": "markdown",
   "id": "4fead127",
   "metadata": {},
   "source": [
    "3. (Part 2): How would you characterize the historical performance of the dealerships visualized in Part 2 (e.g. good, bad, growing, declining, etc.)?  Describe some of the trends in relative performance over time for the dealerships.  Be specific and cite specific elements of the visualization created in Part 2 to support your claims.  Specify any additional factors you would want to consider that could influence your performance assessment. \n"
   ]
  },
  {
   "cell_type": "markdown",
   "id": "5bc274bb",
   "metadata": {},
   "source": [
    "Historical performance of the dealerships visualized in Part 2 is growing from 2017 to 2019. Dealership ID in question are 2.0, 3.0, 5.0, 14.0, and 19.0. Looking at the graph dealership ID 2.0 had the highest growth while 3.0 had the slowest growth. Dealership ID 14.0 had a stagnant growth period between 2018 and 2019. We would need more data regarding the area, demographic etc. for performance assessment. "
   ]
  },
  {
   "cell_type": "markdown",
   "id": "a4dcab87",
   "metadata": {},
   "source": [
    " 4. (Part 3):  How would you describe the relationship between product mix (i.e. proportion of scooters sold) and total sales?  Be specific and cite specific elements of the visualization created in Part 3 to support your claims.\n"
   ]
  },
  {
   "cell_type": "markdown",
   "id": "bd609d05",
   "metadata": {},
   "source": [
    "The visualization shows the total sales as red bars and scooter sales as blue bars. The total height of each bar denotes the total sales made for that state, and the height of the blue bar denotes the scooter sales for the same state. For every bar on the chart, the majority of the red is overlapped by the blue, which implies that scooter sales contribute towards most of the total sales. Therefore, the product mix is leaning heavily towards scooters over other automobiles sold by the company. This implies that scooter sales make up majority of the total sales made by the company. The visualization also makes it clear that this statistic holds true for each state."
   ]
  },
  {
   "cell_type": "markdown",
   "id": "045497c9",
   "metadata": {},
   "source": [
    " 5. (Part 3): What are some potential hypotheses as to why product mix and sales are related in the manner described in 5?  Describe how you would test your hypotheses in further analysis.  Do not conduct any additional analyses or write any more queries, just describe in words."
   ]
  },
  {
   "cell_type": "markdown",
   "id": "0a290636",
   "metadata": {},
   "source": [
    "With the help of the visualization it is evident that the product mix is gravitating more towards scooters over other automobiles. Scooter sales might be high as they have relatively lower maintenance costs. Moreover, scooters cost lesser than most other automobile options. To test these hypotheses for future analysis, data related to incomes in every state, selling prices of automobiles and maintenance costs for each automobile can be utilised."
   ]
  }
 ],
 "metadata": {
  "kernelspec": {
   "display_name": "Python 3 (ipykernel)",
   "language": "python",
   "name": "python3"
  },
  "language_info": {
   "codemirror_mode": {
    "name": "ipython",
    "version": 3
   },
   "file_extension": ".py",
   "mimetype": "text/x-python",
   "name": "python",
   "nbconvert_exporter": "python",
   "pygments_lexer": "ipython3",
   "version": "3.10.14"
  }
 },
 "nbformat": 4,
 "nbformat_minor": 5
}
