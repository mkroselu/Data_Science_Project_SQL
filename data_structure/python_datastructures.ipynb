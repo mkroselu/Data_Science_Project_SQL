{
 "cells": [
  {
   "cell_type": "markdown",
   "id": "f6be5c03",
   "metadata": {},
   "source": [
    "**© 2022 Scott A. Bruce. Do not distribute.**"
   ]
  },
  {
   "cell_type": "code",
   "execution_count": null,
   "id": "79653fad",
   "metadata": {},
   "outputs": [],
   "source": [
    "from IPython.core.interactiveshell import InteractiveShell\n",
    "InteractiveShell.ast_node_interactivity = \"all\""
   ]
  },
  {
   "cell_type": "markdown",
   "id": "6b6fd56b",
   "metadata": {},
   "source": [
    "# 1. Introduction\n",
    "\n",
    "This notebook follows Chapter 2 of the Python Workshop textbook.  There are four types of basic data structures in Python: **list, tuple, dictionary** and **set**.  Each data structure has a set of operations that can be performed on data contained in the structure.  In the following sections, we will introduce these structures and how to manipulate them within Python."
   ]
  },
  {
   "cell_type": "markdown",
   "id": "24b81143",
   "metadata": {},
   "source": [
    "# 2. Lists\n",
    "\n",
    "Lists are used to store multiple data sets at the same time and may contain different data types within the same list."
   ]
  },
  {
   "cell_type": "code",
   "execution_count": null,
   "id": "e9241423",
   "metadata": {},
   "outputs": [],
   "source": [
    "shopping = ['bread','milk','eggs']\n",
    "print(shopping)"
   ]
  },
  {
   "cell_type": "code",
   "execution_count": null,
   "id": "e2194213",
   "metadata": {},
   "outputs": [],
   "source": [
    "for item in shopping:\n",
    "    print(item)"
   ]
  },
  {
   "cell_type": "markdown",
   "id": "66165f1a",
   "metadata": {},
   "source": [
    "Lists are similar to arrays encountered in other programming languages, but differ in that they can contain mixed data types."
   ]
  },
  {
   "cell_type": "code",
   "execution_count": null,
   "id": "6885d378",
   "metadata": {},
   "outputs": [],
   "source": [
    "mixed = [365, 'days', True]\n",
    "print(mixed)"
   ]
  },
  {
   "cell_type": "markdown",
   "id": "ae3ceb02",
   "metadata": {},
   "source": [
    "## 2.1 Nested lists\n",
    "\n",
    "Can we have a 'list of lists'? Yes.  For example, matrices can be stored as nested lists."
   ]
  },
  {
   "cell_type": "code",
   "execution_count": null,
   "id": "a98c62ea",
   "metadata": {},
   "outputs": [],
   "source": [
    "m = [[1,2,3],[4,5,6]]\n",
    "print(m)\n",
    "\n",
    "#each element in the list of m is a list containing the row elements for that index\n",
    "for row in m:\n",
    "    print(row)\n",
    "\n",
    "#can access elements using [row][column] notation\n",
    "print(m[1][2])\n",
    "#remember that indices start at 0"
   ]
  },
  {
   "cell_type": "markdown",
   "id": "4943a0b2",
   "metadata": {},
   "source": [
    "To iterate over elements of a matrix using for loops, consider the following examples."
   ]
  },
  {
   "cell_type": "code",
   "execution_count": null,
   "id": "3fb6531e",
   "metadata": {},
   "outputs": [],
   "source": [
    "for i in range(len(m)):\n",
    "    for j in range(len(m[i])):\n",
    "        print(m[i][j])"
   ]
  },
  {
   "cell_type": "code",
   "execution_count": null,
   "id": "172f46be",
   "metadata": {},
   "outputs": [],
   "source": [
    "for row in m:\n",
    "    for col in row:\n",
    "        print(col)"
   ]
  },
  {
   "cell_type": "markdown",
   "id": "b8c339cc",
   "metadata": {},
   "source": [
    "Note that the first example explicitly states the row and column indices included in the iterations.  This is helpful when you do not want to access every element.  However, the second example spans all rows and columns and does not require us to know the number of rows or columns."
   ]
  },
  {
   "cell_type": "markdown",
   "id": "198f52b2",
   "metadata": {},
   "source": [
    "## 2.2 Activity 6\n",
    "\n",
    "In your notebook, open a new cell below this one and work through Activity 6 to familiarize yourself with nested lists."
   ]
  },
  {
   "cell_type": "markdown",
   "id": "d936e8df",
   "metadata": {},
   "source": [
    "## 2.3 Matrix operations\n",
    "\n",
    "Here is a rundown of basic matrix operations."
   ]
  },
  {
   "cell_type": "code",
   "execution_count": null,
   "id": "a041630d",
   "metadata": {},
   "outputs": [],
   "source": [
    "#Addition and subtraction\n",
    "X = [[1,2,3],[4,5,6],[7,8,9]]\n",
    "Y = [[10,11,12],[13,14,15],[16,17,18]]\n",
    "\n",
    "#initialize a result placeholder for each\n",
    "addn = [[0,0,0],[0,0,0],[0,0,0]]\n",
    "subtractn = [[0,0,0],[0,0,0],[0,0,0]]\n",
    "\n",
    "for i in range(len(X)):\n",
    "    for j in range(len(Y[0])):\n",
    "        addn[i][j] = X[i][j] + Y[i][j]\n",
    "        subtractn[i][j] = X[i][j] - Y[i][j]\n",
    "        \n",
    "print(addn)\n",
    "print(subtractn)"
   ]
  },
  {
   "cell_type": "code",
   "execution_count": null,
   "id": "3e7b5438",
   "metadata": {},
   "outputs": [],
   "source": [
    "#Matrix multiplication\n",
    "X = [[1,2,3],[4,5,6],[7,8,9]]\n",
    "Y = [[10,11,12],[13,14,15],[16,17,18]]\n",
    "\n",
    "#initialize a result placeholder for each\n",
    "multn = [[0,0,0],[0,0,0],[0,0,0]]\n",
    "\n",
    "for i in range(len(X)): #row of X\n",
    "    for j in range(len(Y[0])): #column of Y\n",
    "        for k in range(len(Y)): #row of Y\n",
    "            multn[i][j] += X[i][k] * Y[k][j]\n",
    "            \n",
    "for row in multn:\n",
    "    print(row)\n",
    "\n"
   ]
  },
  {
   "cell_type": "markdown",
   "id": "56359d71",
   "metadata": {},
   "source": [
    "Later on in the course, we will use NumPy for performing matrix calculations, since these are optimized for larger data structures.  More on this to come."
   ]
  },
  {
   "cell_type": "markdown",
   "id": "65ec8966",
   "metadata": {},
   "source": [
    "## 2.4 Basic list operations"
   ]
  },
  {
   "cell_type": "code",
   "execution_count": null,
   "id": "25d3685a",
   "metadata": {},
   "outputs": [],
   "source": [
    "print(shopping)\n",
    "len(shopping) #length\n",
    "\n",
    "#concatenation\n",
    "[1,2,3]+[4,5,6]\n",
    "\n",
    "#repeating elements\n",
    "print(['Whoop!']*3)"
   ]
  },
  {
   "cell_type": "markdown",
   "id": "f796466e",
   "metadata": {},
   "source": [
    "## 2.5 Accessing items in a list"
   ]
  },
  {
   "cell_type": "code",
   "execution_count": null,
   "id": "4b848bc1",
   "metadata": {},
   "outputs": [],
   "source": [
    "print(shopping)\n",
    "print(shopping[1])"
   ]
  },
  {
   "cell_type": "code",
   "execution_count": null,
   "id": "9a0772c2",
   "metadata": {},
   "outputs": [],
   "source": [
    "shopping[1] = 'banana'\n",
    "print(shopping)"
   ]
  },
  {
   "cell_type": "code",
   "execution_count": null,
   "id": "483f356b",
   "metadata": {},
   "outputs": [],
   "source": [
    "print(shopping[-1])"
   ]
  },
  {
   "cell_type": "markdown",
   "id": "b9997b95",
   "metadata": {},
   "source": [
    "**Note**: In Python, a positive index counts forward, and a negative index counts backward.  Use negative indices to access elements from the back"
   ]
  },
  {
   "cell_type": "code",
   "execution_count": null,
   "id": "6fa0fe38",
   "metadata": {},
   "outputs": [],
   "source": [
    "print(shopping[0:2])\n",
    "print(shopping[:3])\n",
    "print(shopping[1:])"
   ]
  },
  {
   "cell_type": "markdown",
   "id": "be3ac207",
   "metadata": {},
   "source": [
    "## 2.6 Adding and inserting items into a list"
   ]
  },
  {
   "cell_type": "code",
   "execution_count": null,
   "id": "b7fd96a7",
   "metadata": {},
   "outputs": [],
   "source": [
    "shopping = []\n",
    "shopping += ['bread','milk','eggs']\n",
    "print(shopping)\n",
    "shopping.append('apple')\n",
    "print(shopping)\n",
    "shopping.insert(2,'ham')\n",
    "print(shopping)"
   ]
  },
  {
   "cell_type": "markdown",
   "id": "a8bff6af",
   "metadata": {},
   "source": [
    "# 3 Dictionaries\n",
    "\n",
    "A Python dictionary is an unordered collection.  They are written with curly brackets and consist of pairs of **keys** and **values**."
   ]
  },
  {
   "cell_type": "code",
   "execution_count": null,
   "id": "8d7e9085",
   "metadata": {},
   "outputs": [],
   "source": [
    "email = {\n",
    "    'subject': 'Your car\\'s warranty is about to expire!',\n",
    "    'from': 'dubious_email_address@gmail.com',\n",
    "    'to': 'your_email_address@yahoo.com',\n",
    "    'cc': '',\n",
    "    'bcc': '',\n",
    "    'date_received':'2021-09-30',\n",
    "    'body':\"\"\"We\\'ve been trying to reach you about your car\\'s \n",
    "              warranty.  Please call us at 555-555-5555 \n",
    "              to maintain coverage!\"\"\"\n",
    "}\n",
    "print(email)"
   ]
  },
  {
   "cell_type": "markdown",
   "id": "cb6d3183",
   "metadata": {},
   "source": [
    "**Note**: You might have noticed a resemblance between Python dictionaries and JSON.  Although you can load JSON directly into Python, a Python dictionary is a complete data structure with its own set of algorithms and operations.  JSON is just a string written in a similar format."
   ]
  },
  {
   "cell_type": "markdown",
   "id": "33ad8121",
   "metadata": {},
   "source": [
    "Dictionaries are like lists and share the following properties:\n",
    "\n",
    "- Both can be used to store values\n",
    "- Both can be chaned in place and can grow and shrink on demand\n",
    "- Both can be nested (i.e. lists of lists, dictionaries of dictionaries, lists of dictionaries, dictionaries of lists)\n",
    "\n",
    "The main difference is how elements are **accessed**. List elements are accessed by their position index, while dictionary elements are accessed via keys. \n",
    "\n",
    "Therefore, dictionaries are more suitable for representing collections of labeled items. However, there are some rules to remember:\n",
    "\n",
    "- Keys must be unique (no duplicate keys)\n",
    "- Keys must be immutable (can be a string, number, or a tuple)"
   ]
  },
  {
   "cell_type": "code",
   "execution_count": null,
   "id": "d0b684ac",
   "metadata": {},
   "outputs": [],
   "source": [
    "#print value for a given key\n",
    "print(email['to'])\n",
    "\n",
    "#update a value in place\n",
    "email['cc'] = 'other_email_address1@hotmail.com'\n",
    "\n",
    "print(email)"
   ]
  },
  {
   "cell_type": "markdown",
   "id": "d560c22c",
   "metadata": {},
   "source": [
    "Dictionaries are flexible in terms of size"
   ]
  },
  {
   "cell_type": "code",
   "execution_count": null,
   "id": "d49f4759",
   "metadata": {},
   "outputs": [],
   "source": [
    "#create dictionary one key-value pair at a time\n",
    "email = {}\n",
    "email['subject'] = 'Your car\\'s warranty is about to expire!'\n",
    "email['from'] = 'dubious_email_address@gmail.com'\n",
    "email['to'] = 'your_email_address@yahoo.com'\n",
    "email['cc'] = ''\n",
    "email['bcc'] = ''\n",
    "email['date_received'] = '2021-09-30'\n",
    "email['body'] = 'We\\'ve been trying to reach you about your car\\'s warranty.  Please call us at 555-555-5555 to maintain coverage!'\n",
    "print(email)"
   ]
  },
  {
   "cell_type": "code",
   "execution_count": null,
   "id": "a9dbcf10",
   "metadata": {},
   "outputs": [],
   "source": [
    "#list in a dictionary\n",
    "email['cc'] = ['email1@gmail.com','email2@hotmail.com','email3@aol.com']\n",
    "print(email['cc'])\n",
    "\n",
    "#dictionary in a dictionary\n",
    "email['metadata'] = {\n",
    "    'sender_ip': '132:123:1231:12',\n",
    "    'attachment': True,\n",
    "    'fraud_score': 10\n",
    "}\n",
    "print(email['metadata'])"
   ]
  },
  {
   "cell_type": "markdown",
   "id": "9378d287",
   "metadata": {},
   "source": [
    "By combining lists and dictionaries creatively, we can store complex real-world information and model structures directly and easily.  This is one of the min benefits of scripting languages such as Python.\n",
    "\n",
    "For example, a table in a database can be stored as a list with nested dictionaries for each record (see Activity 7)."
   ]
  },
  {
   "cell_type": "markdown",
   "id": "316a7eab",
   "metadata": {},
   "source": [
    "## 3.1 Zipping and unzipping dictionaries using zip()\n",
    "\n",
    "Sometimes you obtain information from multiple lists that need to be aggregated for analysis.  In this case you can use the `zip()` method to aggregate lists and create a zip object, which can then be unzipped into a list, tuple, or dictionary.  This can be useful, especially when converting a list to a dictionary."
   ]
  },
  {
   "cell_type": "code",
   "execution_count": null,
   "id": "afd501ee",
   "metadata": {},
   "outputs": [],
   "source": [
    "items = ['apple','orange','banana']\n",
    "quantity = [5,3,2]"
   ]
  },
  {
   "cell_type": "code",
   "execution_count": null,
   "id": "b23caeba",
   "metadata": {},
   "outputs": [],
   "source": [
    "orders = zip(items,quantity)\n",
    "print(orders)"
   ]
  },
  {
   "cell_type": "code",
   "execution_count": null,
   "id": "08d9481b",
   "metadata": {},
   "outputs": [],
   "source": [
    "orders = zip(items,quantity)\n",
    "print(list(orders))"
   ]
  },
  {
   "cell_type": "code",
   "execution_count": null,
   "id": "c4500e5b",
   "metadata": {},
   "outputs": [],
   "source": [
    "orders = zip(items,quantity)\n",
    "print(tuple(orders))"
   ]
  },
  {
   "cell_type": "code",
   "execution_count": null,
   "id": "b647b85e",
   "metadata": {},
   "outputs": [],
   "source": [
    "orders = zip(items,quantity)\n",
    "print(dict(orders))"
   ]
  },
  {
   "cell_type": "markdown",
   "id": "cba6af99",
   "metadata": {},
   "source": [
    "## 3.2 Dictionary methods"
   ]
  },
  {
   "cell_type": "code",
   "execution_count": null,
   "id": "c52571da",
   "metadata": {},
   "outputs": [],
   "source": [
    "orders = {'apple':5, 'orange':3, 'banana':2}\n",
    "print(orders.values()) #access values\n",
    "print(list(orders.values())) #store values in list (can be for later use)\n",
    "print(list(orders.keys())) #store keys in list (can be for later use)"
   ]
  },
  {
   "cell_type": "markdown",
   "id": "5d60daa7",
   "metadata": {},
   "source": [
    "**Note**: You can't directly iterate a dictionary.  You can first convert it to a list of tuples using the `items()` method, then iterate the resulting list and access it."
   ]
  },
  {
   "cell_type": "code",
   "execution_count": null,
   "id": "53a67982",
   "metadata": {},
   "outputs": [],
   "source": [
    "orders = {'apple':5, 'orange':3, 'banana':2}\n",
    "for tuple in list(orders.items()):\n",
    "    print(tuple)"
   ]
  },
  {
   "cell_type": "markdown",
   "id": "ca6823c0",
   "metadata": {},
   "source": [
    "# 4. Tuples"
   ]
  },
  {
   "cell_type": "markdown",
   "id": "6e53b070",
   "metadata": {},
   "source": [
    "A tuple object is similar to a list, but **it cannot be changed after initialization**.  Use typles to represent fixed collections of items."
   ]
  },
  {
   "cell_type": "code",
   "execution_count": null,
   "id": "06895fe7",
   "metadata": {},
   "outputs": [],
   "source": [
    "weekdays_list = ['Monday', 'Tuesday',\n",
    "                 'Wednesday','Thursday',\n",
    "                 'Friday','Saturday','Sunday']"
   ]
  },
  {
   "cell_type": "markdown",
   "id": "934b6da5",
   "metadata": {},
   "source": [
    "However, this does not guarantee that values will remain unchanged throughout its lifetime.  Lists are **mutable**."
   ]
  },
  {
   "cell_type": "code",
   "execution_count": null,
   "id": "2ccde6f1",
   "metadata": {},
   "outputs": [],
   "source": [
    "weekdays_list = ['Monday', 'Tuesday',\n",
    "                 'Wednesday','Thursday',\n",
    "                 'Friday','Saturday','Sunday']\n",
    "weekdays_list.remove('Monday')\n",
    "print(weekdays_list)"
   ]
  },
  {
   "cell_type": "markdown",
   "id": "1af206ae",
   "metadata": {},
   "source": [
    "Tuples on the other hand are **immutable**.  "
   ]
  },
  {
   "cell_type": "code",
   "execution_count": null,
   "id": "0d6fb7fa",
   "metadata": {},
   "outputs": [],
   "source": [
    "weekdays_tup = ('Monday', 'Tuesday',\n",
    "                 'Wednesday','Thursday',\n",
    "                 'Friday','Saturday','Sunday')\n",
    "weekdays_tup.remove('Monday')"
   ]
  },
  {
   "cell_type": "code",
   "execution_count": null,
   "id": "e4cbcfb3",
   "metadata": {},
   "outputs": [],
   "source": [
    "weekdays_tup[0]\n",
    "weekdays_tup[0] = 'Saturday'"
   ]
  },
  {
   "cell_type": "code",
   "execution_count": null,
   "id": "b22c2f3d",
   "metadata": {},
   "outputs": [],
   "source": [
    "print(weekdays_tup)"
   ]
  },
  {
   "cell_type": "markdown",
   "id": "18490215",
   "metadata": {},
   "source": [
    "You can't append to a tuple, but you can create a new tuple by concatenating an existing tuple with new items."
   ]
  },
  {
   "cell_type": "code",
   "execution_count": null,
   "id": "4bea1e49",
   "metadata": {},
   "outputs": [],
   "source": [
    "weekdays_tup.append('Funday')"
   ]
  },
  {
   "cell_type": "code",
   "execution_count": null,
   "id": "17cb9a21",
   "metadata": {},
   "outputs": [],
   "source": [
    "print(weekdays_tup + ('Funday',))"
   ]
  },
  {
   "cell_type": "markdown",
   "id": "1a03d5ab",
   "metadata": {},
   "source": [
    "Tuples also support mixed data types and nesting."
   ]
  },
  {
   "cell_type": "code",
   "execution_count": null,
   "id": "ffa1cd1b",
   "metadata": {},
   "outputs": [],
   "source": [
    "mixed = ('apple',True,3)\n",
    "shopping = ('apple',3),('orange',2),('banana',5)\n",
    "print(mixed)\n",
    "print(shopping)"
   ]
  },
  {
   "cell_type": "markdown",
   "id": "3e6d0a12",
   "metadata": {},
   "source": [
    "# 5. Sets"
   ]
  },
  {
   "cell_type": "markdown",
   "id": "6d81e4d8",
   "metadata": {},
   "source": [
    "Sets are relatively new to Python. Sets are unordered collections of **unique** and **immutable** objects that support operations mimicking mathmematical set theory.  Sets can also be used to prevent duplicate values."
   ]
  },
  {
   "cell_type": "code",
   "execution_count": null,
   "id": "d8e66c61",
   "metadata": {},
   "outputs": [],
   "source": [
    "#initialize by passing in a list\n",
    "s1 = set([1,2,3,4,5,6])\n",
    "print(s1)\n",
    "s2 = set([1,2,2,3,4,4,5,6,6])\n",
    "print(s2)\n",
    "s3 = set([3,4,5,6,6,6,1,1,2])\n",
    "print(s3)"
   ]
  },
  {
   "cell_type": "code",
   "execution_count": null,
   "id": "7b37b073",
   "metadata": {},
   "outputs": [],
   "source": [
    "#initialize with curly brackets directly\n",
    "s4 = {'apple','orange','banana'}\n",
    "print(s4)"
   ]
  },
  {
   "cell_type": "markdown",
   "id": "0ef16f26",
   "metadata": {},
   "source": [
    "While the objects in a set are immutable, sets are mutable."
   ]
  },
  {
   "cell_type": "code",
   "execution_count": null,
   "id": "f7a45e5f",
   "metadata": {},
   "outputs": [],
   "source": [
    "s4.add('pineapple')\n",
    "print(s4)"
   ]
  },
  {
   "cell_type": "markdown",
   "id": "488a7ad0",
   "metadata": {},
   "source": [
    "## 5.1 Set operations"
   ]
  },
  {
   "cell_type": "code",
   "execution_count": null,
   "id": "d09bf471",
   "metadata": {},
   "outputs": [],
   "source": [
    "s5,s6 = {1,2,3,4},{3,4,5,6}\n",
    "\n",
    "#unions\n",
    "print(s5|s6)\n",
    "print(s5.union(s6))\n",
    "\n",
    "#intersections\n",
    "print(s5 & s6)\n",
    "print(s6.intersection(s5))"
   ]
  },
  {
   "cell_type": "code",
   "execution_count": 2,
   "id": "f8100bef",
   "metadata": {},
   "outputs": [
    {
     "name": "stdout",
     "output_type": "stream",
     "text": [
      "{1, 2}\n",
      "{1, 2}\n",
      "False\n",
      "False\n",
      "True\n",
      "True\n",
      "True\n",
      "False\n",
      "True\n",
      "True\n",
      "True\n",
      "False\n"
     ]
    }
   ],
   "source": [
    "s5,s6 = {1,2,3,4},{3,4,5,6}\n",
    "\n",
    "#set minus\n",
    "print(s5 - s6)\n",
    "print(s5.difference(s6))\n",
    "\n",
    "#check if subset\n",
    "print(s5 <= s6)\n",
    "print(s5.issubset(s6))\n",
    "\n",
    "s7 = {1,2,3}\n",
    "print(s7 <= s5)\n",
    "print(s7 <= s7)\n",
    "\n",
    "#check if proper subset\n",
    "print(s7 < s5)\n",
    "print(s7 < s7)\n",
    "\n",
    "#check if superset\n",
    "print(s5 >= s7)\n",
    "print(s5.issuperset(s7))\n",
    "print(s5 > s7) # proper superset \n",
    "print(s5 > s5)"
   ]
  },
  {
   "cell_type": "markdown",
   "id": "de84f04d",
   "metadata": {},
   "source": [
    "**Note**: How are sets different from lists and dictionaries?\n",
    " - Sets are different from lists in that they are unordered.  \n",
    " - Sets are different from dictionaries in that they do not map keys to values.  \n",
    " - Sets are neither a sequence or a mapping type; they are a type by themselves."
   ]
  },
  {
   "cell_type": "markdown",
   "id": "e9c9682c",
   "metadata": {},
   "source": [
    "# 6. Choosing the right structure\n",
    "\n",
    "Here are some general guidelines for choosing the right structure (based on their unique characteristics):\n",
    " \n",
    " - Lists are used to store multiple objects and retain a sequence\n",
    " - Dictionaries store unique key-value pair mappings\n",
    " - Tuples are immutable\n",
    " - Sets only store unique elements\n",
    " \n",
    "Choosing an inappropriate data structure could lead to low efficiency when running code, security issues, and data loss.  Choose wisely!"
   ]
  },
  {
   "cell_type": "code",
   "execution_count": null,
   "id": "0300daf3",
   "metadata": {},
   "outputs": [],
   "source": []
  }
 ],
 "metadata": {
  "kernelspec": {
   "display_name": "Python 3 (ipykernel)",
   "language": "python",
   "name": "python3"
  },
  "language_info": {
   "codemirror_mode": {
    "name": "ipython",
    "version": 3
   },
   "file_extension": ".py",
   "mimetype": "text/x-python",
   "name": "python",
   "nbconvert_exporter": "python",
   "pygments_lexer": "ipython3",
   "version": "3.10.14"
  }
 },
 "nbformat": 4,
 "nbformat_minor": 5
}
